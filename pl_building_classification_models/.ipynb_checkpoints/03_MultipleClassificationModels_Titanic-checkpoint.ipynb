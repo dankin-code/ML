{
 "cells": [
  {
   "cell_type": "code",
   "execution_count": 2,
   "id": "39fd3ec5",
   "metadata": {},
   "outputs": [],
   "source": [
    "import pandas as pd\n",
    "import numpy as np\n",
    "\n",
    "from sklearn.model_selection import train_test_split\n",
    "from sklearn.metrics import accuracy_score\n",
    "from sklearn.metrics import precision_score\n",
    "from sklearn.metrics import recall_score\n",
    "\n",
    "from sklearn.linear_model import LogisticRegression\n",
    "from sklearn.discriminant_analysis import LinearDiscriminantAnalysis\n",
    "from sklearn.discriminant_analysis import QuadraticDiscriminantAnalysis\n",
    "from sklearn.linear_model import SGDClassifier\n",
    "from sklearn.svm import LinearSVC\n",
    "from sklearn.neighbors import RadiusNeighborsClassifier\n",
    "from sklearn.naive_bayes import GaussianNB\n",
    "from sklearn.tree import DecisionTreeClassifier\n",
    "\n",
    "import matplotlib.pyplot as plt\n",
    "import seaborn as sns"
   ]
  },
  {
   "cell_type": "code",
   "execution_count": 4,
   "id": "343b6b07",
   "metadata": {},
   "outputs": [
    {
     "data": {
      "text/html": [
       "<div>\n",
       "<style scoped>\n",
       "    .dataframe tbody tr th:only-of-type {\n",
       "        vertical-align: middle;\n",
       "    }\n",
       "\n",
       "    .dataframe tbody tr th {\n",
       "        vertical-align: top;\n",
       "    }\n",
       "\n",
       "    .dataframe thead th {\n",
       "        text-align: right;\n",
       "    }\n",
       "</style>\n",
       "<table border=\"1\" class=\"dataframe\">\n",
       "  <thead>\n",
       "    <tr style=\"text-align: right;\">\n",
       "      <th></th>\n",
       "      <th>Survived</th>\n",
       "      <th>Pclass</th>\n",
       "      <th>Sex</th>\n",
       "      <th>Age</th>\n",
       "      <th>SibSp</th>\n",
       "      <th>Parch</th>\n",
       "      <th>Fare</th>\n",
       "      <th>Embarked_C</th>\n",
       "      <th>Embarked_Q</th>\n",
       "      <th>Embarked_S</th>\n",
       "    </tr>\n",
       "  </thead>\n",
       "  <tbody>\n",
       "    <tr>\n",
       "      <th>0</th>\n",
       "      <td>0</td>\n",
       "      <td>3</td>\n",
       "      <td>0</td>\n",
       "      <td>28.0</td>\n",
       "      <td>0</td>\n",
       "      <td>0</td>\n",
       "      <td>7.8958</td>\n",
       "      <td>0</td>\n",
       "      <td>0</td>\n",
       "      <td>1</td>\n",
       "    </tr>\n",
       "    <tr>\n",
       "      <th>1</th>\n",
       "      <td>0</td>\n",
       "      <td>3</td>\n",
       "      <td>1</td>\n",
       "      <td>26.0</td>\n",
       "      <td>1</td>\n",
       "      <td>2</td>\n",
       "      <td>20.5750</td>\n",
       "      <td>0</td>\n",
       "      <td>0</td>\n",
       "      <td>1</td>\n",
       "    </tr>\n",
       "    <tr>\n",
       "      <th>2</th>\n",
       "      <td>1</td>\n",
       "      <td>2</td>\n",
       "      <td>0</td>\n",
       "      <td>25.0</td>\n",
       "      <td>1</td>\n",
       "      <td>1</td>\n",
       "      <td>30.0000</td>\n",
       "      <td>0</td>\n",
       "      <td>0</td>\n",
       "      <td>1</td>\n",
       "    </tr>\n",
       "    <tr>\n",
       "      <th>3</th>\n",
       "      <td>0</td>\n",
       "      <td>3</td>\n",
       "      <td>1</td>\n",
       "      <td>28.0</td>\n",
       "      <td>0</td>\n",
       "      <td>0</td>\n",
       "      <td>7.8958</td>\n",
       "      <td>0</td>\n",
       "      <td>0</td>\n",
       "      <td>1</td>\n",
       "    </tr>\n",
       "    <tr>\n",
       "      <th>4</th>\n",
       "      <td>0</td>\n",
       "      <td>3</td>\n",
       "      <td>1</td>\n",
       "      <td>29.0</td>\n",
       "      <td>1</td>\n",
       "      <td>0</td>\n",
       "      <td>7.0458</td>\n",
       "      <td>0</td>\n",
       "      <td>0</td>\n",
       "      <td>1</td>\n",
       "    </tr>\n",
       "  </tbody>\n",
       "</table>\n",
       "</div>"
      ],
      "text/plain": [
       "   Survived  Pclass  Sex   Age  SibSp  Parch     Fare  Embarked_C  Embarked_Q  \\\n",
       "0         0       3    0  28.0      0      0   7.8958           0           0   \n",
       "1         0       3    1  26.0      1      2  20.5750           0           0   \n",
       "2         1       2    0  25.0      1      1  30.0000           0           0   \n",
       "3         0       3    1  28.0      0      0   7.8958           0           0   \n",
       "4         0       3    1  29.0      1      0   7.0458           0           0   \n",
       "\n",
       "   Embarked_S  \n",
       "0           1  \n",
       "1           1  \n",
       "2           1  \n",
       "3           1  \n",
       "4           1  "
      ]
     },
     "execution_count": 4,
     "metadata": {},
     "output_type": "execute_result"
    }
   ],
   "source": [
    "titanic_df = pd.read_csv('c:/projects/datasets/titanic_processed.csv')\n",
    "\n",
    "titanic_df.head()\n",
    "# categorical values have been either label encoded or one-hot encoded"
   ]
  },
  {
   "cell_type": "code",
   "execution_count": 5,
   "id": "f4af027f",
   "metadata": {},
   "outputs": [
    {
     "data": {
      "text/plain": [
       "['Pclass',\n",
       " 'Sex',\n",
       " 'Age',\n",
       " 'SibSp',\n",
       " 'Parch',\n",
       " 'Fare',\n",
       " 'Embarked_C',\n",
       " 'Embarked_Q',\n",
       " 'Embarked_S']"
      ]
     },
     "execution_count": 5,
     "metadata": {},
     "output_type": "execute_result"
    }
   ],
   "source": [
    "# the trage values we want to predict are those in the survived column\n",
    "# extract the feature from the data frame\n",
    "FEATURES = list(titanic_df.columns[1:])\n",
    "FEATURES"
   ]
  },
  {
   "cell_type": "code",
   "execution_count": 6,
   "id": "67e2a2d0",
   "metadata": {},
   "outputs": [],
   "source": [
    "# where we will store the results of the different models\n",
    "result_dict = {}"
   ]
  },
  {
   "cell_type": "code",
   "execution_count": 12,
   "id": "61086903",
   "metadata": {},
   "outputs": [],
   "source": [
    "# create some helper functions that will be reused in this model\n",
    "def summarize_classification(y_test, y_pred):\n",
    "    acc = accuracy_score(y_test, y_pred, normalize=True)\n",
    "    num_acc = accuracy_score(y_test, y_pred, normalize=False)\n",
    "    prec = precision_score(y_test, y_pred)\n",
    "    recall = recall_score(y_test, y_pred)\n",
    "    return {'accuracy':acc, 'precision':prec, 'recall':recall, 'accuracy_count':num_acc}"
   ]
  },
  {
   "cell_type": "code",
   "execution_count": 13,
   "id": "d2338c4a",
   "metadata": {},
   "outputs": [],
   "source": [
    "def build_model(classifier_fn, name_of_y_col, names_of_x_cols, dataset, test_frac=0.2):\n",
    "    \n",
    "    # extract the X variables, that is the features we'll use for training, and the Y values from the database\n",
    "    X = dataset[names_of_x_cols]\n",
    "    Y = dataset[name_of_y_col]\n",
    "    \n",
    "    # split the dataset to training data and test data\n",
    "    x_train, x_test, y_train, y_test = train_test_split(X, Y, test_size=test_frac)\n",
    "    \n",
    "    # because this is a helper function, we call and instantiate the right estimator object and train the model\n",
    "    model = classifier_fn(x_train, y_train)\n",
    "    \n",
    "    # the classifier with then return an instance of the fully trained model whicl will then be used to predict no the test data\n",
    "    y_pred = model.predict(x_test)\n",
    "    y_pred_train = model.predict(x_train)\n",
    "    \n",
    "    # summarize the data by calling the summarize_classification helper function defined earlier\n",
    "    train_summary = summarize_classification(y_train, y_pred_train)\n",
    "    test_summary = summarize_classification(y_test, y_pred)\n",
    "    \n",
    "    # dataframe with actual and predicted values on the test data\n",
    "    pred_results = pd.DataFrame({'y_test': y_test, 'y_pred':y_pred})\n",
    "    \n",
    "    # calculate the confusion matrix\n",
    "    model_crosstab = pd.crosstab(pred_results.y_pred, pred_results.y_test)\n",
    "    \n",
    "    # finally return all the information as a dictionary\n",
    "    return {'training': train_summary, 'test':test_summary, 'confusion_matrix': model_crosstab }"
   ]
  },
  {
   "cell_type": "code",
   "execution_count": 14,
   "id": "d35f68a7-e10c-4e9a-ab99-1fa4db4af915",
   "metadata": {},
   "outputs": [],
   "source": [
    "# helper function to quickly compare the results of the different classification models\n",
    "def compare_results():\n",
    "    for key in result_dict:\n",
    "        print('Classification: ', key)\n",
    "        \n",
    "        print()\n",
    "        print('Training data:')\n",
    "        for score in result_dict[key]['training']:\n",
    "            print(score, result_dict[key]['training'][score])\n",
    "            \n",
    "        print()\n",
    "        print('Test data')\n",
    "        for score in result_dict[key]['test']:\n",
    "            print(score, result_dict[key]['test'][score])\n",
    "            \n",
    "        print()"
   ]
  },
  {
   "cell_type": "code",
   "execution_count": 15,
   "id": "cdedb3f7-10c5-4315-a860-58bc08a7c6cc",
   "metadata": {},
   "outputs": [],
   "source": [
    "# let's use the helper functions to build and train a logistic regression model\n",
    "# this function takes in training data and training models\n",
    "def logistic_fn(x_train, y_train):\n",
    "    \n",
    "    # instantiate logstic regression estimator and calls regression estimator\n",
    "    model = LogisticRegression(solver='liblinear')\n",
    "    # call fit on teh estimator to start training\n",
    "    model.fit(x_train, y_train)\n",
    "    \n",
    "    # return the fully trained model\n",
    "    return model"
   ]
  },
  {
   "cell_type": "code",
   "execution_count": 17,
   "id": "ef18ae53-6b13-497b-8baf-1fbb99fb8465",
   "metadata": {},
   "outputs": [
    {
     "name": "stdout",
     "output_type": "stream",
     "text": [
      "Classification:  survived ~ logistic\n",
      "\n",
      "Training data:\n",
      "accuracy 0.7961335676625659\n",
      "precision 0.7857142857142857\n",
      "recall 0.6991525423728814\n",
      "accuracy_count 453\n",
      "\n",
      "Test data\n",
      "accuracy 0.8111888111888111\n",
      "precision 0.7450980392156863\n",
      "recall 0.7307692307692307\n",
      "accuracy_count 116\n",
      "\n"
     ]
    }
   ],
   "source": [
    "result_dict['survived ~ logistic'] = build_model(logistic_fn, 'Survived', FEATURES, titanic_df)\n",
    "compare_results()"
   ]
  }
 ],
 "metadata": {
  "kernelspec": {
   "display_name": "Python 3 (ipykernel)",
   "language": "python",
   "name": "python3"
  },
  "language_info": {
   "codemirror_mode": {
    "name": "ipython",
    "version": 3
   },
   "file_extension": ".py",
   "mimetype": "text/x-python",
   "name": "python",
   "nbconvert_exporter": "python",
   "pygments_lexer": "ipython3",
   "version": "3.10.4"
  }
 },
 "nbformat": 4,
 "nbformat_minor": 5
}

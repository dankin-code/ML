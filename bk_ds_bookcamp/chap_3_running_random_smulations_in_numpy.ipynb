{
 "cells": [
  {
   "cell_type": "code",
   "execution_count": 1,
   "id": "9e32ed28",
   "metadata": {},
   "outputs": [],
   "source": [
    "import numpy as np"
   ]
  },
  {
   "cell_type": "code",
   "execution_count": null,
   "id": "52ccb6d3",
   "metadata": {},
   "outputs": [],
   "source": []
  },
  {
   "cell_type": "code",
   "execution_count": 2,
   "id": "c519da67",
   "metadata": {},
   "outputs": [],
   "source": [
    "# simulate randomly rolled die\n",
    "die_roll = np.random.randint(1, 7)\n",
    "assert 1 <= die_roll <= 6"
   ]
  },
  {
   "cell_type": "code",
   "execution_count": 3,
   "id": "b3020457",
   "metadata": {},
   "outputs": [
    {
     "data": {
      "text/plain": [
       "1"
      ]
     },
     "execution_count": 3,
     "metadata": {},
     "output_type": "execute_result"
    }
   ],
   "source": [
    "die_roll"
   ]
  },
  {
   "cell_type": "code",
   "execution_count": 4,
   "id": "16f48da0",
   "metadata": {},
   "outputs": [],
   "source": [
    "# seeding reproducible random die rolls\n",
    "np.random.seed(0)\n",
    "die_rolls = [np.random.randint(1,7) for _ in range(3)]"
   ]
  },
  {
   "cell_type": "code",
   "execution_count": 5,
   "id": "1236f96a",
   "metadata": {},
   "outputs": [],
   "source": [
    "assert die_rolls == [5,6,1]"
   ]
  },
  {
   "cell_type": "code",
   "execution_count": 6,
   "id": "4f8acd38",
   "metadata": {},
   "outputs": [
    {
     "name": "stdout",
     "output_type": "stream",
     "text": [
      "Coin landed on tails\n"
     ]
    }
   ],
   "source": [
    "# let's generate a single flip of an unbiased coin\n",
    "np.random.seed(0)\n",
    "coin_flip = np.random.randint(0,2)\n",
    "print(f\"Coin landed on {'heads' if coin_flip == 1 else 'tails'}\")"
   ]
  },
  {
   "cell_type": "code",
   "execution_count": 7,
   "id": "efc7cf11",
   "metadata": {},
   "outputs": [
    {
     "name": "stdout",
     "output_type": "stream",
     "text": [
      "Frequency of Heads is 0.8\n"
     ]
    }
   ],
   "source": [
    "# generate a sequence of 10 coin flips and then compute \n",
    "# the observed frequency of head\n",
    "np.random.seed(0)\n",
    "def frequency_head(coin_flip_sequence):\n",
    "    total_heads = len([head for head in coin_flip_sequence if head == 1])\n",
    "    return total_heads / len(coin_flip_sequence)\n",
    "\n",
    "coin_flips = [np.random.randint(0,2) for _ in range(10)]\n",
    "freq_heads = frequency_head(coin_flips)\n",
    "print(F\"Frequency of Heads is {freq_heads}\")"
   ]
  },
  {
   "cell_type": "code",
   "execution_count": 8,
   "id": "1cb4ac5c",
   "metadata": {},
   "outputs": [],
   "source": [
    "# the observed frequency is 0.8 which is quite disproportional to the actual\n",
    "# probabilty of heads. 10 coin flips with produce such extreme frequencies\n",
    "# approximately 10% of the time\n",
    "# Let's see what happens when we flip the coin 1000 times"
   ]
  },
  {
   "cell_type": "code",
   "execution_count": 9,
   "id": "233837a6",
   "metadata": {},
   "outputs": [
    {
     "data": {
      "image/png": "[encoded data removed]",
      "text/plain": [
       "<Figure size 432x288 with 1 Axes>"
      ]
     },
     "metadata": {
      "needs_background": "light"
     },
     "output_type": "display_data"
    }
   ],
   "source": [
    "np.random.seed(0)\n",
    "coin_flips = []\n",
    "frequencies = []\n",
    "for _ in range(1000):\n",
    "    coin_flips.append(np.random.randint(0,2))\n",
    "    frequencies.append(frequency_head(coin_flips))\n",
    "\n",
    "import matplotlib.pyplot as plt\n",
    "plt.plot(list(range(1000)), frequencies)\n",
    "plt.axhline(0.5, color='k')\n",
    "plt.xlabel('Number of Coin Flips')\n",
    "plt.ylabel('Head-Frequency')\n",
    "plt.show()"
   ]
  },
  {
   "cell_type": "code",
   "execution_count": 10,
   "id": "7b794d78",
   "metadata": {},
   "outputs": [],
   "source": [
    "# the probability of e=heads slowly converges to 0.5. Thus the law \n",
    "# of large numbers appears to hold up"
   ]
  },
  {
   "cell_type": "markdown",
   "id": "39e562ce",
   "metadata": {},
   "source": [
    "### 3.1.1 Analyzing biased coin flip"
   ]
  },
  {
   "cell_type": "code",
   "execution_count": 11,
   "id": "734ac1a9",
   "metadata": {},
   "outputs": [],
   "source": [
    "# we've simulated a sequence of unbiased coin flips, but waht if we wish to\n",
    "# simulate a coin that falls on heads 70% of the time?\n",
    "# we can generate the biased output by calling np.random.bionomial(1, 0.7)"
   ]
  },
  {
   "cell_type": "code",
   "execution_count": 12,
   "id": "d7956c86",
   "metadata": {},
   "outputs": [
    {
     "name": "stdout",
     "output_type": "stream",
     "text": [
      "Let's flip the biased coin once.\n",
      "Biased coin landed on heads.\n",
      "\n",
      "Let's flip the biased coin 10 times.\n",
      "6 heads were observed out of 10 biased coin flips\n"
     ]
    }
   ],
   "source": [
    "np.random.seed(0)\n",
    "print(\"Let's flip the biased coin once.\")\n",
    "coin_flip = np.random.binomial(1, 0.7)\n",
    "print(f\"Biased coin landed on {'heads' if coin_flip == 1 else 'tails'}.\")\n",
    "\n",
    "print(\"\\nLet's flip the biased coin 10 times.\")\n",
    "number_coin_flips = 10\n",
    "head_count = np.random.binomial(number_coin_flips, 0.7)\n",
    "print(f\"{head_count} heads were observed out of {number_coin_flips} biased coin flips\")\n",
    " "
   ]
  },
  {
   "cell_type": "code",
   "execution_count": 13,
   "id": "c1356d55",
   "metadata": {},
   "outputs": [
    {
     "name": "stdout",
     "output_type": "stream",
     "text": [
      "Frequency of Heads is 0.697\n"
     ]
    }
   ],
   "source": [
    "# let's generate a sequence of 1,000 biased coin flips\n",
    "# we then check if the frequency converges to 0.7\n",
    "np.random.seed(0)\n",
    "head_count = np.random.binomial(1000, 0.7)\n",
    "frequency = head_count / 1000\n",
    "print(f\"Frequency of Heads is {frequency}\")"
   ]
  },
  {
   "cell_type": "code",
   "execution_count": 14,
   "id": "a78ec7e5",
   "metadata": {},
   "outputs": [
    {
     "name": "stdout",
     "output_type": "stream",
     "text": [
      "Frequency at iteration 1 is 0.69\n",
      "Frequency at iteration 2 is 0.7\n",
      "Frequency equals the probability!\n",
      "\n",
      "Frequency at iteration 3 is 0.707\n",
      "Frequency at iteration 4 is 0.702\n",
      "Frequency at iteration 5 is 0.699\n"
     ]
    }
   ],
   "source": [
    "# suppose we recompute the frequency of 1000 coin flips five more times\n",
    "# will all the frequencies be lower than 0.7?\n",
    "# will certain frequencies hit the exact value of 0.7?\n",
    "# let's find out by executing np.random.binomial(1000, 0.7) over five looped iterations\n",
    "\n",
    "np.random.seed(0)\n",
    "assert np.random.binomial(1000, 0.7) / 1000 == 0.697\n",
    "for i in range (1,6):\n",
    "    head_count = np.random.binomial(1000, 0.7)\n",
    "    frequency = head_count / 1000\n",
    "    print(f\"Frequency at iteration {i} is {frequency}\")\n",
    "    if frequency == 0.7:\n",
    "        print(\"Frequency equals the probability!\\n\")"
   ]
  },
  {
   "cell_type": "code",
   "execution_count": 15,
   "id": "5a430ff5",
   "metadata": {},
   "outputs": [],
   "source": [
    "# computing confidence intervals \n",
    "# using histograms and NumPy arrays"
   ]
  },
  {
   "cell_type": "code",
   "execution_count": 26,
   "id": "49dbcf55",
   "metadata": {},
   "outputs": [],
   "source": [
    "np.random.seed(0)\n",
    "head_count_list = [np.random.binomial(1000, 0.7) for _ in range(500)]\n",
    "head_count_array = np.random.binomial(1000, 0.7, 500)"
   ]
  },
  {
   "cell_type": "code",
   "execution_count": 31,
   "id": "25a5d994",
   "metadata": {},
   "outputs": [
    {
     "ename": "AssertionError",
     "evalue": "",
     "output_type": "error",
     "traceback": [
      "\u001b[1;31m---------------------------------------------------------------------------\u001b[0m",
      "\u001b[1;31mAssertionError\u001b[0m                            Traceback (most recent call last)",
      "\u001b[1;32m<ipython-input-31-658371cc9948>\u001b[0m in \u001b[0;36m<module>\u001b[1;34m\u001b[0m\n\u001b[0;32m      1\u001b[0m \u001b[0mfrequency_array\u001b[0m \u001b[1;33m=\u001b[0m \u001b[0mhead_count_array\u001b[0m \u001b[1;33m/\u001b[0m \u001b[1;36m1000\u001b[0m\u001b[1;33m\u001b[0m\u001b[1;33m\u001b[0m\u001b[0m\n\u001b[1;32m----> 2\u001b[1;33m \u001b[1;32massert\u001b[0m \u001b[0mfrequency_array\u001b[0m\u001b[1;33m.\u001b[0m\u001b[0mtolist\u001b[0m\u001b[1;33m(\u001b[0m\u001b[1;33m)\u001b[0m \u001b[1;33m==\u001b[0m \u001b[1;33m[\u001b[0m\u001b[0mhead_count\u001b[0m \u001b[1;33m/\u001b[0m \u001b[1;36m1000\u001b[0m \u001b[1;32mfor\u001b[0m \u001b[0mhead_count\u001b[0m \u001b[1;32min\u001b[0m \u001b[0mhead_count_list\u001b[0m\u001b[1;33m]\u001b[0m\u001b[1;33m\u001b[0m\u001b[1;33m\u001b[0m\u001b[0m\n\u001b[0m\u001b[0;32m      3\u001b[0m \u001b[1;32massert\u001b[0m \u001b[0mfrequency_array\u001b[0m\u001b[1;33m.\u001b[0m\u001b[0mtolist\u001b[0m\u001b[1;33m(\u001b[0m\u001b[1;33m)\u001b[0m \u001b[1;33m==\u001b[0m \u001b[0mlist\u001b[0m\u001b[1;33m(\u001b[0m\u001b[0mmap\u001b[0m\u001b[1;33m(\u001b[0m\u001b[1;32mlambda\u001b[0m \u001b[0mx\u001b[0m\u001b[1;33m:\u001b[0m\u001b[0mx\u001b[0m \u001b[1;33m/\u001b[0m \u001b[1;36m1000\u001b[0m\u001b[1;33m,\u001b[0m \u001b[0mhead_count_list\u001b[0m\u001b[1;33m)\u001b[0m\u001b[1;33m)\u001b[0m\u001b[1;33m\u001b[0m\u001b[1;33m\u001b[0m\u001b[0m\n",
      "\u001b[1;31mAssertionError\u001b[0m: "
     ]
    }
   ],
   "source": [
    "frequency_array = head_count_array / 1000\n",
    "assert frequency_array.tolist() == [head_count / 1000 for head_count in head_count_list]\n",
    "assert frequency_array.tolist() == list(map(lambda x:x / 1000, head_count_list))"
   ]
  },
  {
   "cell_type": "code",
   "execution_count": 32,
   "id": "65ecde29",
   "metadata": {},
   "outputs": [
    {
     "name": "stdout",
     "output_type": "stream",
     "text": [
      "[0.669 0.691 0.743 0.684 0.702 0.699 0.7   0.728 0.711 0.714 0.682 0.7\n",
      " 0.719 0.722 0.698 0.687 0.697 0.705 0.671 0.739]\n"
     ]
    }
   ],
   "source": [
    "print(frequency_array[:20])"
   ]
  },
  {
   "cell_type": "code",
   "execution_count": 35,
   "id": "d78d641b",
   "metadata": {},
   "outputs": [
    {
     "name": "stdout",
     "output_type": "stream",
     "text": [
      "Minimum frequency observed: 0.657\n",
      "Maximum frequency observed: 0.747\n",
      "Difference accross frequency range: 0.08999999999999997\n"
     ]
    }
   ],
   "source": [
    "# finding the larget and smallest frequncy values\n",
    "min_freq = frequency_array.min()\n",
    "max_freq = frequency_array.max()\n",
    "print(f\"Minimum frequency observed: {min_freq}\")\n",
    "print(f\"Maximum frequency observed: {max_freq}\")\n",
    "print(f\"Difference accross frequency range: {max_freq - min_freq}\")"
   ]
  },
  {
   "cell_type": "code",
   "execution_count": 38,
   "id": "c75637ca",
   "metadata": {},
   "outputs": [
    {
     "data": {
      "image/png": "[encoded data removed]",
      "text/plain": [
       "<Figure size 432x288 with 1 Axes>"
      ]
     },
     "metadata": {
      "needs_background": "light"
     },
     "output_type": "display_data"
    }
   ],
   "source": [
    "from collections import defaultdict\n",
    "frequency_counts = defaultdict(int)\n",
    "for frequency in frequency_array:\n",
    "    frequency_counts[frequency] += 1\n",
    "    \n",
    "frequencies = list(frequency_counts.keys())\n",
    "counts = [frequency_counts[freq] for freq in frequencies]\n",
    "\n",
    "plt.scatter(frequencies, counts)\n",
    "plt.xlabel('Frequency')\n",
    "plt.ylabel('Count')\n",
    "plt.show()"
   ]
  },
  {
   "cell_type": "code",
   "execution_count": 39,
   "id": "992bd2a9",
   "metadata": {},
   "outputs": [],
   "source": [
    "# a scatter plot of 500 head-count frequencies plotted\n",
    "# against the frequncies plotted agains the frequency\n",
    "# counts. the frequencies are centered around0.7. Certain \n",
    "# proximate frequencings appear as overlappn"
   ]
  },
  {
   "cell_type": "code",
   "execution_count": 40,
   "id": "1880a8b6",
   "metadata": {},
   "outputs": [
    {
     "data": {
      "image/png": "[encoded data removed]",
      "text/plain": [
       "<Figure size 432x288 with 1 Axes>"
      ]
     },
     "metadata": {
      "needs_background": "light"
     },
     "output_type": "display_data"
    }
   ],
   "source": [
    "# plot a frequency histogram\n",
    "plt.hist(frequency_array, bins='auto', edgecolor='black')\n",
    "plt.xlabel('Binned Frequency')\n",
    "plt.ylabel('Count')\n",
    "plt.show()"
   ]
  },
  {
   "cell_type": "code",
   "execution_count": 41,
   "id": "9e603073",
   "metadata": {},
   "outputs": [
    {
     "name": "stdout",
     "output_type": "stream",
     "text": [
      "Number of Bins: 19\n"
     ]
    },
    {
     "data": {
      "image/png": "[encoded data removed]",
      "text/plain": [
       "<Figure size 432x288 with 1 Axes>"
      ]
     },
     "metadata": {
      "needs_background": "light"
     },
     "output_type": "display_data"
    }
   ],
   "source": [
    "# counting bins in a plotted histogram\n",
    "counts, _, _ = plt.hist(frequency_array, bins='auto', edgecolor='black')\n",
    "print(f\"Number of Bins: {counts.size}\")"
   ]
  },
  {
   "cell_type": "code",
   "execution_count": 42,
   "id": "342cf488",
   "metadata": {},
   "outputs": [
    {
     "ename": "AssertionError",
     "evalue": "",
     "output_type": "error",
     "traceback": [
      "\u001b[1;31m---------------------------------------------------------------------------\u001b[0m",
      "\u001b[1;31mAssertionError\u001b[0m                            Traceback (most recent call last)",
      "\u001b[1;32m<ipython-input-42-27d2101272c8>\u001b[0m in \u001b[0;36m<module>\u001b[1;34m\u001b[0m\n\u001b[0;32m      2\u001b[0m \u001b[0mcounts\u001b[0m\u001b[1;33m,\u001b[0m \u001b[0mbin_edges\u001b[0m\u001b[1;33m,\u001b[0m \u001b[0m_\u001b[0m \u001b[1;33m=\u001b[0m \u001b[0mplt\u001b[0m\u001b[1;33m.\u001b[0m\u001b[0mhist\u001b[0m\u001b[1;33m(\u001b[0m\u001b[0mfrequency_array\u001b[0m\u001b[1;33m,\u001b[0m \u001b[0mbins\u001b[0m\u001b[1;33m=\u001b[0m\u001b[1;34m'auto'\u001b[0m\u001b[1;33m,\u001b[0m \u001b[0medgecolor\u001b[0m\u001b[1;33m=\u001b[0m\u001b[1;34m'black'\u001b[0m\u001b[1;33m)\u001b[0m\u001b[1;33m\u001b[0m\u001b[1;33m\u001b[0m\u001b[0m\n\u001b[0;32m      3\u001b[0m \u001b[0mbin_width\u001b[0m \u001b[1;33m=\u001b[0m \u001b[0mbin_edges\u001b[0m\u001b[1;33m[\u001b[0m\u001b[1;36m1\u001b[0m\u001b[1;33m]\u001b[0m \u001b[1;33m-\u001b[0m \u001b[0mbin_edges\u001b[0m\u001b[1;33m[\u001b[0m\u001b[1;36m0\u001b[0m\u001b[1;33m]\u001b[0m\u001b[1;33m\u001b[0m\u001b[1;33m\u001b[0m\u001b[0m\n\u001b[1;32m----> 4\u001b[1;33m \u001b[1;32massert\u001b[0m \u001b[0mbin_width\u001b[0m \u001b[1;33m==\u001b[0m \u001b[1;33m(\u001b[0m\u001b[0mmax_freq\u001b[0m \u001b[1;33m-\u001b[0m \u001b[0mmin_freq\u001b[0m\u001b[1;33m)\u001b[0m \u001b[1;33m/\u001b[0m \u001b[0mcounts\u001b[0m\u001b[1;33m.\u001b[0m\u001b[0msize\u001b[0m\u001b[1;33m\u001b[0m\u001b[1;33m\u001b[0m\u001b[0m\n\u001b[0m\u001b[0;32m      5\u001b[0m \u001b[0mprint\u001b[0m\u001b[1;33m(\u001b[0m\u001b[1;34mf\"Bin width: {bin_width}\"\u001b[0m\u001b[1;33m)\u001b[0m\u001b[1;33m\u001b[0m\u001b[1;33m\u001b[0m\u001b[0m\n",
      "\u001b[1;31mAssertionError\u001b[0m: "
     ]
    },
    {
     "data": {
      "image/png": "[encoded data removed]",
      "text/plain": [
       "<Figure size 432x288 with 1 Axes>"
      ]
     },
     "metadata": {
      "needs_background": "light"
     },
     "output_type": "display_data"
    }
   ],
   "source": [
    "# find the width of bins in a histogram\n",
    "counts, bin_edges, _ = plt.hist(frequency_array, bins='auto', edgecolor='black')\n",
    "bin_width = bin_edges[1] - bin_edges[0]\n",
    "assert bin_width == (max_freq - min_freq) / counts.size\n",
    "print(f\"Bin width: {bin_width}\")"
   ]
  },
  {
   "cell_type": "code",
   "execution_count": 50,
   "id": "6556c848",
   "metadata": {},
   "outputs": [],
   "source": [
    "# getting a bin's frequency and size\n",
    "def output_bin_coverage(i):\n",
    "    # a bin at position i contains counts[i] frequencies\n",
    "    count = int(counts[i])\n",
    "    range_start, range_end = bin_edges[i], bin_edges[i+1]\n",
    "    range_string = f\"{range_start} - {range_end}\"\n",
    "    print((f\"The bin for frequency range {range_string} contains \" f\"{count } element{'' if count == 1 else 's'}\"))"
   ]
  },
  {
   "cell_type": "code",
   "execution_count": 51,
   "id": "18c2bcdc",
   "metadata": {},
   "outputs": [
    {
     "name": "stdout",
     "output_type": "stream",
     "text": [
      "The bin for frequency range 0.657 - 0.6617368421052632 contains 3 elements\n",
      "The bin for frequency range 0.6806842105263158 - 0.6854210526315789 contains 34 elements\n"
     ]
    }
   ],
   "source": [
    "output_bin_coverage(0)\n",
    "output_bin_coverage(5)"
   ]
  },
  {
   "cell_type": "code",
   "execution_count": 52,
   "id": "9c662db5",
   "metadata": {},
   "outputs": [],
   "source": [
    "# finding the index of an array's maximum value\n",
    "assert counts[counts.argmax()] == counts.max()"
   ]
  },
  {
   "cell_type": "code",
   "execution_count": 53,
   "id": "50202643",
   "metadata": {},
   "outputs": [
    {
     "name": "stdout",
     "output_type": "stream",
     "text": [
      "The bin for frequency range 0.6996315789473684 - 0.7043684210526316 contains 83 elements\n"
     ]
    }
   ],
   "source": [
    "# using argmax to return a histogram's peak\n",
    "output_bin_coverage(counts.argmax())"
   ]
  },
  {
   "cell_type": "markdown",
   "id": "9d87b306",
   "metadata": {},
   "source": [
    "### Deriving probabilities from histograms"
   ]
  },
  {
   "cell_type": "code",
   "execution_count": 54,
   "id": "86f5b9e1",
   "metadata": {},
   "outputs": [
    {
     "data": {
      "image/png": "[encoded data removed]",
      "text/plain": [
       "<Figure size 432x288 with 1 Axes>"
      ]
     },
     "metadata": {
      "needs_background": "light"
     },
     "output_type": "display_data"
    }
   ],
   "source": [
    "likelihoods, bin_edges, _ = plt.hist(frequency_array, bins='auto', edgecolor='black', density=True)\n",
    "plt.xlabel('Binned Frequency')\n",
    "plt.ylabel('Relative Likelihood')\n",
    "plt.show()\n"
   ]
  },
  {
   "cell_type": "code",
   "execution_count": 55,
   "id": "02fc3eb3",
   "metadata": {},
   "outputs": [],
   "source": [
    "# the binned counts have now been replaced by relative"
   ]
  },
  {
   "cell_type": "code",
   "execution_count": 58,
   "id": "cc791873",
   "metadata": {},
   "outputs": [
    {
     "data": {
      "text/plain": [
       "9"
      ]
     },
     "execution_count": 58,
     "metadata": {},
     "output_type": "execute_result"
    }
   ],
   "source": [
    "# computing the total area under a histogram\n",
    "likelihoods.argmax()\n",
    "# assert likelihoods.sum() * bin_width == 1.0"
   ]
  },
  {
   "cell_type": "code",
   "execution_count": 61,
   "id": "8fc6c5ea",
   "metadata": {},
   "outputs": [
    {
     "name": "stdout",
     "output_type": "stream",
     "text": [
      "Sampled frequency falls within interval 0.6996315789473684 - 0.7043684210526316 with probability 0.16599999999999612\n"
     ]
    }
   ],
   "source": [
    "# computing the probability of the peak frequencies\n",
    "index = likelihoods.argmax()\n",
    "area = likelihoods[index] * bin_width\n",
    "range_start, range_end = bin_edges[index], bin_edges[index+1]\n",
    "range_string = f\"{range_start} - {range_end}\"\n",
    "print(f\"Sampled frequency falls within interval {range_string} with probability {area}\")"
   ]
  },
  {
   "cell_type": "code",
   "execution_count": 62,
   "id": "d6e5d135",
   "metadata": {},
   "outputs": [
    {
     "name": "stdout",
     "output_type": "stream",
     "text": [
      "Sampled frequency falls within interval 0.6948947368421052 - 0.7091052631578948 with probability 0.5059999999999961\n"
     ]
    }
   ],
   "source": [
    "# increasing the probability of a frequency range\n",
    "peak_index = likelihoods.argmax()\n",
    "start_index, end_index = (peak_index - 1, peak_index + 2)\n",
    "area = likelihoods[start_index: end_index + 1].sum() * bin_width\n",
    "range_start, range_end = bin_edges[start_index], bin_edges[end_index]\n",
    "range_string = f\"{range_start} - {range_end}\"\n",
    "print(f\"Sampled frequency falls within interval {range_string} with probability {area}\")"
   ]
  },
  {
   "cell_type": "code",
   "execution_count": 68,
   "id": "f4ee0a1d",
   "metadata": {},
   "outputs": [
    {
     "name": "stdout",
     "output_type": "stream",
     "text": [
      "The frequency range 0.671211 - 0.732789 represents a 95.60 % confidence interval\n"
     ]
    },
    {
     "data": {
      "text/plain": [
       "(3, 16)"
      ]
     },
     "execution_count": 68,
     "metadata": {},
     "output_type": "execute_result"
    }
   ],
   "source": [
    "# computing a high confidence level\n",
    "def compute_high_confidence_interval(likelihoods, bin_width):\n",
    "    peak_index = likelihoods.argmax()\n",
    "    area = likelihoods[peak_index] * bin_width\n",
    "    start_index, end_index = peak_index, peak_index + 1\n",
    "    while area < 0.95:\n",
    "        if start_index > 0:\n",
    "            start_index -= 1\n",
    "        if end_index < likelihoods.size - 1:\n",
    "            end_index += 1\n",
    "            \n",
    "        area = likelihoods[start_index: end_index + 1].sum() * bin_width\n",
    "        \n",
    "    range_start, range_end = bin_edges[start_index], bin_edges[end_index]\n",
    "    range_string = f\"{range_start:.6f} - {range_end:.6f}\"\n",
    "    print((f\"The frequency range {range_string} represents a {100 * area:.2f} % confidence interval\"))\n",
    "    return start_index, end_index\n",
    "\n",
    "compute_high_confidence_interval(likelihoods, bin_width)"
   ]
  },
  {
   "cell_type": "code",
   "execution_count": 69,
   "id": "1705825a",
   "metadata": {},
   "outputs": [],
   "source": [
    "# shrinking the range of a high confidence interval\n",
    "np.random.seed(0)\n",
    "head_count_array = np.random.binomial(1000, 0.7, 100000)\n",
    "frequency_array = head_count_array / 1000\n",
    "assert frequency_array.size == 100000"
   ]
  },
  {
   "cell_type": "code",
   "execution_count": 70,
   "id": "2bba6fa5",
   "metadata": {},
   "outputs": [
    {
     "name": "stdout",
     "output_type": "stream",
     "text": [
      "The frequency range 0.670429 - 0.727857 represents a 95.42 % confidence interval\n"
     ]
    },
    {
     "data": {
      "image/png": "[encoded data removed]",
      "text/plain": [
       "<Figure size 432x288 with 1 Axes>"
      ]
     },
     "metadata": {
      "needs_background": "light"
     },
     "output_type": "display_data"
    }
   ],
   "source": [
    "# coloring histogram bars over an interval\n",
    "likelihoods, bin_edges, patches = plt.hist(frequency_array, bins='auto', edgecolor='black', density=True)\n",
    "bin_width = bin_edges[1] - bin_edges[0]\n",
    "start_index, end_index = compute_high_confidence_interval(likelihoods, bin_width)\n",
    "\n",
    "for i in range(start_index, end_index):\n",
    "    patches[i].set_facecolor('yellow')\n",
    "plt.xlabel('Binned Frequency')\n",
    "plt.ylabel('Relative Likelihood')\n",
    "plt.show()"
   ]
  },
  {
   "cell_type": "code",
   "execution_count": 71,
   "id": "66ea31cf",
   "metadata": {},
   "outputs": [],
   "source": [
    "# the recomputed histogram resembles a symmetric bell-shaped\n",
    "# curve. many of its bars have been highlighted ising the \n",
    "# set_facecolor method"
   ]
  },
  {
   "cell_type": "markdown",
   "id": "43a7585b",
   "metadata": {},
   "source": [
    "### Sampling 5 billion flipped coins"
   ]
  },
  {
   "cell_type": "code",
   "execution_count": 74,
   "id": "2aba2d7e",
   "metadata": {},
   "outputs": [
    {
     "name": "stdout",
     "output_type": "stream",
     "text": [
      "The frequency range 0.695769 - 0.703708 represents a 95.06 % confidence interval\n"
     ]
    },
    {
     "data": {
      "image/png": "[encoded data removed]",
      "text/plain": [
       "<Figure size 432x288 with 1 Axes>"
      ]
     },
     "metadata": {
      "needs_background": "light"
     },
     "output_type": "display_data"
    }
   ],
   "source": [
    "np.random.seed(0)\n",
    "head_count_array = np.random.binomial(50000, 0.7, 100000)\n",
    "frequency_array = head_count_array / 50000\n",
    "\n",
    "likelihoods, bin_edges, patches = plt.hist(frequency_array, bins='auto', edgecolor='black', density=True)\n",
    "bin_width = bin_edges[1] - bin_edges[0]\n",
    "start_index, end_index = compute_high_confidence_interval(likelihoods, bin_width)\n",
    "\n",
    "for i in range(start_index, end_index):\n",
    "    patches[i].set_facecolor('yellow')\n",
    "plt.xlabel('Binned Frequency')\n",
    "plt.ylabel('Relative Likelihood')\n",
    "plt.show()"
   ]
  },
  {
   "cell_type": "code",
   "execution_count": 75,
   "id": "c19ac236",
   "metadata": {},
   "outputs": [],
   "source": [
    "# a histogram of 100,000 binned frequencies plotted\n",
    "# against their associated likelihoods, Highlighted bars\n",
    "# delineat the 95% confidence interval, which represents\n",
    "# 95% of the histogram's area. "
   ]
  },
  {
   "cell_type": "markdown",
   "id": "484ba36c",
   "metadata": {},
   "source": [
    "### Computing a histogram using np.histogram"
   ]
  },
  {
   "cell_type": "code",
   "execution_count": 76,
   "id": "dd5b8871",
   "metadata": {},
   "outputs": [
    {
     "name": "stdout",
     "output_type": "stream",
     "text": [
      "The frequency range 0.695769 - 0.703708 represents a 95.06 % confidence interval\n"
     ]
    },
    {
     "data": {
      "text/plain": [
       "(47, 114)"
      ]
     },
     "execution_count": 76,
     "metadata": {},
     "output_type": "execute_result"
    }
   ],
   "source": [
    "# we can bypass the vizualization by simply calling np.histogram\n",
    "np.random.seed(0)\n",
    "likelihoods, din_edges = np.histogram(frequency_array, bins='auto', density=True)\n",
    "bin_width = bin_edges[1] - bin_edges[0]\n",
    "compute_high_confidence_interval(likelihoods, bin_width)"
   ]
  },
  {
   "cell_type": "markdown",
   "id": "ff45c4d0",
   "metadata": {},
   "source": [
    "### Using confidence interval to analyze a biased deck of cards"
   ]
  },
  {
   "cell_type": "code",
   "execution_count": 77,
   "id": "6abf1689",
   "metadata": {},
   "outputs": [],
   "source": [
    "# suppose you are shown a biased 52-card deck. Each\n",
    "# card is either red or black, but the color counts \n",
    "# aren't equal."
   ]
  },
  {
   "cell_type": "code",
   "execution_count": 79,
   "id": "cefd11c0",
   "metadata": {},
   "outputs": [],
   "source": [
    "np.random.seed(0)\n",
    "total_cards = 52\n",
    "red_card_count = np.random.randint(0, total_cards + 1)\n",
    "\n",
    "# let's compute the black card count\n",
    "black_card_count = total_cards - red_card_count\n",
    "assert black_card_count != red_card_count"
   ]
  },
  {
   "cell_type": "code",
   "execution_count": 83,
   "id": "456aa5cf",
   "metadata": {},
   "outputs": [
    {
     "ename": "AttributeError",
     "evalue": "'function' object has no attribute 'sum'",
     "output_type": "error",
     "traceback": [
      "\u001b[1;31m---------------------------------------------------------------------------\u001b[0m",
      "\u001b[1;31mAttributeError\u001b[0m                            Traceback (most recent call last)",
      "\u001b[1;32m<ipython-input-83-f06ee8c0d23a>\u001b[0m in \u001b[0;36m<module>\u001b[1;34m\u001b[0m\n\u001b[0;32m      3\u001b[0m     \u001b[1;32mreturn\u001b[0m \u001b[0mred_card_count\u001b[0m\u001b[1;33m.\u001b[0m\u001b[0msum\u001b[0m \u001b[1;33m/\u001b[0m \u001b[1;33m(\u001b[0m \u001b[0mred_card_count\u001b[0m \u001b[1;33m+\u001b[0m \u001b[0mblack_card_count\u001b[0m\u001b[1;33m)\u001b[0m\u001b[1;33m\u001b[0m\u001b[1;33m\u001b[0m\u001b[0m\n\u001b[0;32m      4\u001b[0m \u001b[0mweighted_sample_space\u001b[0m \u001b[1;33m=\u001b[0m \u001b[1;33m{\u001b[0m\u001b[1;34m'red_card'\u001b[0m\u001b[1;33m:\u001b[0m \u001b[0mred_card_count\u001b[0m\u001b[1;33m,\u001b[0m \u001b[1;34m'black_card'\u001b[0m \u001b[1;33m:\u001b[0m \u001b[0mblack_card_count\u001b[0m \u001b[1;33m}\u001b[0m\u001b[1;33m\u001b[0m\u001b[1;33m\u001b[0m\u001b[0m\n\u001b[1;32m----> 5\u001b[1;33m \u001b[0mprob_red\u001b[0m \u001b[1;33m=\u001b[0m \u001b[0mcompute_event_probability\u001b[0m\u001b[1;33m(\u001b[0m\u001b[1;32mlambda\u001b[0m \u001b[0mx\u001b[0m\u001b[1;33m:\u001b[0m\u001b[0mx\u001b[0m \u001b[1;33m==\u001b[0m \u001b[1;34m'red_card'\u001b[0m\u001b[1;33m,\u001b[0m \u001b[0mweighted_sample_space\u001b[0m\u001b[1;33m)\u001b[0m\u001b[1;33m\u001b[0m\u001b[1;33m\u001b[0m\u001b[0m\n\u001b[0m",
      "\u001b[1;32m<ipython-input-83-f06ee8c0d23a>\u001b[0m in \u001b[0;36mcompute_event_probability\u001b[1;34m(red_card_count, black_card_count)\u001b[0m\n\u001b[0;32m      1\u001b[0m \u001b[1;31m# computing card probabilities using a sample space\u001b[0m\u001b[1;33m\u001b[0m\u001b[1;33m\u001b[0m\u001b[1;33m\u001b[0m\u001b[0m\n\u001b[0;32m      2\u001b[0m \u001b[1;32mdef\u001b[0m \u001b[0mcompute_event_probability\u001b[0m\u001b[1;33m(\u001b[0m\u001b[0mred_card_count\u001b[0m\u001b[1;33m,\u001b[0m \u001b[0mblack_card_count\u001b[0m\u001b[1;33m)\u001b[0m\u001b[1;33m:\u001b[0m\u001b[1;33m\u001b[0m\u001b[1;33m\u001b[0m\u001b[0m\n\u001b[1;32m----> 3\u001b[1;33m     \u001b[1;32mreturn\u001b[0m \u001b[0mred_card_count\u001b[0m\u001b[1;33m.\u001b[0m\u001b[0msum\u001b[0m \u001b[1;33m/\u001b[0m \u001b[1;33m(\u001b[0m \u001b[0mred_card_count\u001b[0m \u001b[1;33m+\u001b[0m \u001b[0mblack_card_count\u001b[0m\u001b[1;33m)\u001b[0m\u001b[1;33m\u001b[0m\u001b[1;33m\u001b[0m\u001b[0m\n\u001b[0m\u001b[0;32m      4\u001b[0m \u001b[0mweighted_sample_space\u001b[0m \u001b[1;33m=\u001b[0m \u001b[1;33m{\u001b[0m\u001b[1;34m'red_card'\u001b[0m\u001b[1;33m:\u001b[0m \u001b[0mred_card_count\u001b[0m\u001b[1;33m,\u001b[0m \u001b[1;34m'black_card'\u001b[0m \u001b[1;33m:\u001b[0m \u001b[0mblack_card_count\u001b[0m \u001b[1;33m}\u001b[0m\u001b[1;33m\u001b[0m\u001b[1;33m\u001b[0m\u001b[0m\n\u001b[0;32m      5\u001b[0m \u001b[0mprob_red\u001b[0m \u001b[1;33m=\u001b[0m \u001b[0mcompute_event_probability\u001b[0m\u001b[1;33m(\u001b[0m\u001b[1;32mlambda\u001b[0m \u001b[0mx\u001b[0m\u001b[1;33m:\u001b[0m\u001b[0mx\u001b[0m \u001b[1;33m==\u001b[0m \u001b[1;34m'red_card'\u001b[0m\u001b[1;33m,\u001b[0m \u001b[0mweighted_sample_space\u001b[0m\u001b[1;33m)\u001b[0m\u001b[1;33m\u001b[0m\u001b[1;33m\u001b[0m\u001b[0m\n",
      "\u001b[1;31mAttributeError\u001b[0m: 'function' object has no attribute 'sum'"
     ]
    }
   ],
   "source": [
    "# computing card probabilities using a sample space\n",
    "def compute_event_probability(red_card_count, black_card_count):\n",
    "    return red_card_count / ( red_card_count + black_card_count)\n",
    "weighted_sample_space = {'red_card': red_card_count, 'black_card' : black_card_count }\n",
    "prob_red = compute_event_probability(lambda x:x == 'red_card', weighted_sample_space)\n"
   ]
  },
  {
   "cell_type": "code",
   "execution_count": null,
   "id": "255f1415",
   "metadata": {},
   "outputs": [],
   "source": []
  },
  {
   "cell_type": "code",
   "execution_count": null,
   "id": "8f41dc5b",
   "metadata": {},
   "outputs": [],
   "source": []
  },
  {
   "cell_type": "code",
   "execution_count": null,
   "id": "ba584b06",
   "metadata": {},
   "outputs": [],
   "source": []
  },
  {
   "cell_type": "code",
   "execution_count": null,
   "id": "2a534ec6",
   "metadata": {},
   "outputs": [],
   "source": []
  },
  {
   "cell_type": "code",
   "execution_count": null,
   "id": "9edfa2f4",
   "metadata": {},
   "outputs": [],
   "source": []
  },
  {
   "cell_type": "code",
   "execution_count": null,
   "id": "12e89a49",
   "metadata": {},
   "outputs": [],
   "source": []
  },
  {
   "cell_type": "code",
   "execution_count": null,
   "id": "2ec6d40f",
   "metadata": {},
   "outputs": [],
   "source": []
  },
  {
   "cell_type": "code",
   "execution_count": null,
   "id": "a5a86b26",
   "metadata": {},
   "outputs": [],
   "source": []
  },
  {
   "cell_type": "code",
   "execution_count": null,
   "id": "5e83d5ec",
   "metadata": {},
   "outputs": [],
   "source": []
  },
  {
   "cell_type": "code",
   "execution_count": null,
   "id": "b59a8749",
   "metadata": {},
   "outputs": [],
   "source": []
  },
  {
   "cell_type": "code",
   "execution_count": null,
   "id": "009f8e2f",
   "metadata": {},
   "outputs": [],
   "source": []
  },
  {
   "cell_type": "code",
   "execution_count": null,
   "id": "0ad465dc",
   "metadata": {},
   "outputs": [],
   "source": []
  },
  {
   "cell_type": "code",
   "execution_count": null,
   "id": "b91c7927",
   "metadata": {},
   "outputs": [],
   "source": []
  },
  {
   "cell_type": "code",
   "execution_count": null,
   "id": "b71b3651",
   "metadata": {},
   "outputs": [],
   "source": []
  },
  {
   "cell_type": "code",
   "execution_count": null,
   "id": "06ad75d4",
   "metadata": {},
   "outputs": [],
   "source": []
  },
  {
   "cell_type": "code",
   "execution_count": null,
   "id": "4ea65268",
   "metadata": {},
   "outputs": [],
   "source": []
  },
  {
   "cell_type": "code",
   "execution_count": null,
   "id": "a2a7d1a1",
   "metadata": {},
   "outputs": [],
   "source": []
  },
  {
   "cell_type": "code",
   "execution_count": null,
   "id": "2b1c3a65",
   "metadata": {},
   "outputs": [],
   "source": []
  },
  {
   "cell_type": "code",
   "execution_count": null,
   "id": "5b509d92",
   "metadata": {},
   "outputs": [],
   "source": []
  },
  {
   "cell_type": "code",
   "execution_count": null,
   "id": "234dd9dd",
   "metadata": {},
   "outputs": [],
   "source": []
  },
  {
   "cell_type": "code",
   "execution_count": null,
   "id": "b15e3ebc",
   "metadata": {},
   "outputs": [],
   "source": []
  },
  {
   "cell_type": "code",
   "execution_count": null,
   "id": "60c7905d",
   "metadata": {},
   "outputs": [],
   "source": []
  },
  {
   "cell_type": "code",
   "execution_count": null,
   "id": "d16661e1",
   "metadata": {},
   "outputs": [],
   "source": []
  },
  {
   "cell_type": "code",
   "execution_count": null,
   "id": "a9e544cd",
   "metadata": {},
   "outputs": [],
   "source": []
  },
  {
   "cell_type": "code",
   "execution_count": null,
   "id": "802c8e4b",
   "metadata": {},
   "outputs": [],
   "source": []
  },
  {
   "cell_type": "code",
   "execution_count": null,
   "id": "947c8943",
   "metadata": {},
   "outputs": [],
   "source": []
  },
  {
   "cell_type": "code",
   "execution_count": null,
   "id": "62023b48",
   "metadata": {},
   "outputs": [],
   "source": []
  },
  {
   "cell_type": "code",
   "execution_count": null,
   "id": "92b6447c",
   "metadata": {},
   "outputs": [],
   "source": []
  },
  {
   "cell_type": "code",
   "execution_count": null,
   "id": "c4956f7c",
   "metadata": {},
   "outputs": [],
   "source": []
  },
  {
   "cell_type": "code",
   "execution_count": null,
   "id": "d510c3be",
   "metadata": {},
   "outputs": [],
   "source": []
  },
  {
   "cell_type": "code",
   "execution_count": null,
   "id": "1f0b384a",
   "metadata": {},
   "outputs": [],
   "source": []
  },
  {
   "cell_type": "code",
   "execution_count": null,
   "id": "6e027d9f",
   "metadata": {},
   "outputs": [],
   "source": []
  },
  {
   "cell_type": "code",
   "execution_count": null,
   "id": "9f74b465",
   "metadata": {},
   "outputs": [],
   "source": []
  },
  {
   "cell_type": "code",
   "execution_count": null,
   "id": "16c38910",
   "metadata": {},
   "outputs": [],
   "source": []
  },
  {
   "cell_type": "code",
   "execution_count": null,
   "id": "2f8d4b56",
   "metadata": {},
   "outputs": [],
   "source": []
  },
  {
   "cell_type": "code",
   "execution_count": null,
   "id": "dfff3c76",
   "metadata": {},
   "outputs": [],
   "source": []
  },
  {
   "cell_type": "code",
   "execution_count": null,
   "id": "c534809a",
   "metadata": {},
   "outputs": [],
   "source": []
  },
  {
   "cell_type": "code",
   "execution_count": null,
   "id": "36a276ca",
   "metadata": {},
   "outputs": [],
   "source": []
  },
  {
   "cell_type": "code",
   "execution_count": null,
   "id": "e0584328",
   "metadata": {},
   "outputs": [],
   "source": []
  },
  {
   "cell_type": "code",
   "execution_count": null,
   "id": "3f1d1185",
   "metadata": {},
   "outputs": [],
   "source": []
  },
  {
   "cell_type": "code",
   "execution_count": null,
   "id": "2ded51f5",
   "metadata": {},
   "outputs": [],
   "source": []
  },
  {
   "cell_type": "code",
   "execution_count": null,
   "id": "102764f5",
   "metadata": {},
   "outputs": [],
   "source": []
  },
  {
   "cell_type": "code",
   "execution_count": null,
   "id": "00f0b624",
   "metadata": {},
   "outputs": [],
   "source": []
  },
  {
   "cell_type": "code",
   "execution_count": null,
   "id": "35a09241",
   "metadata": {},
   "outputs": [],
   "source": []
  }
 ],
 "metadata": {
  "kernelspec": {
   "display_name": "Python 3",
   "language": "python",
   "name": "python3"
  },
  "language_info": {
   "codemirror_mode": {
    "name": "ipython",
    "version": 3
   },
   "file_extension": ".py",
   "mimetype": "text/x-python",
   "name": "python",
   "nbconvert_exporter": "python",
   "pygments_lexer": "ipython3",
   "version": "3.9.2"
  }
 },
 "nbformat": 4,
 "nbformat_minor": 5
}

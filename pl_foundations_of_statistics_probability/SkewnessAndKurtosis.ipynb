{
 "cells": [
  {
   "cell_type": "code",
   "execution_count": 3,
   "id": "02de120d",
   "metadata": {},
   "outputs": [],
   "source": [
    "import numpy as np\n",
    "import pandas as pd\n",
    "\n",
    "import seaborn as sns\n",
    "import matplotlib.pyplot as plt\n",
    "\n",
    "import statsmodels.api as sm\n",
    "\n",
    "sns.set_theme(style=\"darkgrid\")"
   ]
  },
  {
   "cell_type": "code",
   "execution_count": 4,
   "id": "92f72fbf",
   "metadata": {},
   "outputs": [
    {
     "data": {
      "text/html": [
       "<div>\n",
       "<style scoped>\n",
       "    .dataframe tbody tr th:only-of-type {\n",
       "        vertical-align: middle;\n",
       "    }\n",
       "\n",
       "    .dataframe tbody tr th {\n",
       "        vertical-align: top;\n",
       "    }\n",
       "\n",
       "    .dataframe thead th {\n",
       "        text-align: right;\n",
       "    }\n",
       "</style>\n",
       "<table border=\"1\" class=\"dataframe\">\n",
       "  <thead>\n",
       "    <tr style=\"text-align: right;\">\n",
       "      <th></th>\n",
       "      <th>Date</th>\n",
       "      <th>Open</th>\n",
       "      <th>High</th>\n",
       "      <th>Low</th>\n",
       "      <th>Close</th>\n",
       "      <th>AdjClose</th>\n",
       "      <th>Volume</th>\n",
       "    </tr>\n",
       "  </thead>\n",
       "  <tbody>\n",
       "    <tr>\n",
       "      <th>0</th>\n",
       "      <td>31-Dec-1986</td>\n",
       "      <td>243.37</td>\n",
       "      <td>244.03</td>\n",
       "      <td>241.28</td>\n",
       "      <td>242.17</td>\n",
       "      <td>242.17</td>\n",
       "      <td>13,92,00,000</td>\n",
       "    </tr>\n",
       "    <tr>\n",
       "      <th>1</th>\n",
       "      <td>2-Jan-1987</td>\n",
       "      <td>242.17</td>\n",
       "      <td>246.45</td>\n",
       "      <td>242.17</td>\n",
       "      <td>246.45</td>\n",
       "      <td>246.45</td>\n",
       "      <td>9,18,80,000</td>\n",
       "    </tr>\n",
       "    <tr>\n",
       "      <th>2</th>\n",
       "      <td>5-Jan-1987</td>\n",
       "      <td>246.45</td>\n",
       "      <td>252.57</td>\n",
       "      <td>246.45</td>\n",
       "      <td>252.19</td>\n",
       "      <td>252.19</td>\n",
       "      <td>18,19,00,000</td>\n",
       "    </tr>\n",
       "    <tr>\n",
       "      <th>3</th>\n",
       "      <td>6-Jan-1987</td>\n",
       "      <td>252.20</td>\n",
       "      <td>253.99</td>\n",
       "      <td>252.14</td>\n",
       "      <td>252.78</td>\n",
       "      <td>252.78</td>\n",
       "      <td>18,93,00,000</td>\n",
       "    </tr>\n",
       "    <tr>\n",
       "      <th>4</th>\n",
       "      <td>7-Jan-1987</td>\n",
       "      <td>252.78</td>\n",
       "      <td>255.72</td>\n",
       "      <td>252.65</td>\n",
       "      <td>255.33</td>\n",
       "      <td>255.33</td>\n",
       "      <td>19,09,00,000</td>\n",
       "    </tr>\n",
       "  </tbody>\n",
       "</table>\n",
       "</div>"
      ],
      "text/plain": [
       "          Date    Open    High     Low   Close  AdjClose        Volume\n",
       "0  31-Dec-1986  243.37  244.03  241.28  242.17    242.17  13,92,00,000\n",
       "1   2-Jan-1987  242.17  246.45  242.17  246.45    246.45   9,18,80,000\n",
       "2   5-Jan-1987  246.45  252.57  246.45  252.19    252.19  18,19,00,000\n",
       "3   6-Jan-1987  252.20  253.99  252.14  252.78    252.78  18,93,00,000\n",
       "4   7-Jan-1987  252.78  255.72  252.65  255.33    255.33  19,09,00,000"
      ]
     },
     "execution_count": 4,
     "metadata": {},
     "output_type": "execute_result"
    }
   ],
   "source": [
    "sp_data = pd.read_csv('C:/Projects/datasets/SP_500_1987.csv')\n",
    "sp_data.head()"
   ]
  },
  {
   "cell_type": "code",
   "execution_count": 5,
   "id": "fc9015f8",
   "metadata": {},
   "outputs": [
    {
     "data": {
      "text/html": [
       "<div>\n",
       "<style scoped>\n",
       "    .dataframe tbody tr th:only-of-type {\n",
       "        vertical-align: middle;\n",
       "    }\n",
       "\n",
       "    .dataframe tbody tr th {\n",
       "        vertical-align: top;\n",
       "    }\n",
       "\n",
       "    .dataframe thead th {\n",
       "        text-align: right;\n",
       "    }\n",
       "</style>\n",
       "<table border=\"1\" class=\"dataframe\">\n",
       "  <thead>\n",
       "    <tr style=\"text-align: right;\">\n",
       "      <th></th>\n",
       "      <th>Open</th>\n",
       "      <th>High</th>\n",
       "      <th>Low</th>\n",
       "      <th>Close</th>\n",
       "      <th>AdjClose</th>\n",
       "    </tr>\n",
       "  </thead>\n",
       "  <tbody>\n",
       "    <tr>\n",
       "      <th>count</th>\n",
       "      <td>253.000000</td>\n",
       "      <td>253.000000</td>\n",
       "      <td>253.000000</td>\n",
       "      <td>253.000000</td>\n",
       "      <td>253.000000</td>\n",
       "    </tr>\n",
       "    <tr>\n",
       "      <th>mean</th>\n",
       "      <td>286.964466</td>\n",
       "      <td>289.328063</td>\n",
       "      <td>284.412095</td>\n",
       "      <td>286.978617</td>\n",
       "      <td>286.978617</td>\n",
       "    </tr>\n",
       "    <tr>\n",
       "      <th>std</th>\n",
       "      <td>28.923683</td>\n",
       "      <td>28.241142</td>\n",
       "      <td>29.535528</td>\n",
       "      <td>28.889053</td>\n",
       "      <td>28.889053</td>\n",
       "    </tr>\n",
       "    <tr>\n",
       "      <th>min</th>\n",
       "      <td>223.980000</td>\n",
       "      <td>225.770000</td>\n",
       "      <td>216.460000</td>\n",
       "      <td>223.920000</td>\n",
       "      <td>223.920000</td>\n",
       "    </tr>\n",
       "    <tr>\n",
       "      <th>25%</th>\n",
       "      <td>267.840000</td>\n",
       "      <td>270.400000</td>\n",
       "      <td>264.310000</td>\n",
       "      <td>267.840000</td>\n",
       "      <td>267.840000</td>\n",
       "    </tr>\n",
       "    <tr>\n",
       "      <th>50%</th>\n",
       "      <td>290.520000</td>\n",
       "      <td>292.470000</td>\n",
       "      <td>288.340000</td>\n",
       "      <td>290.520000</td>\n",
       "      <td>290.520000</td>\n",
       "    </tr>\n",
       "    <tr>\n",
       "      <th>75%</th>\n",
       "      <td>308.940000</td>\n",
       "      <td>310.270000</td>\n",
       "      <td>307.420000</td>\n",
       "      <td>308.960000</td>\n",
       "      <td>308.960000</td>\n",
       "    </tr>\n",
       "    <tr>\n",
       "      <th>max</th>\n",
       "      <td>336.770000</td>\n",
       "      <td>337.890000</td>\n",
       "      <td>334.460000</td>\n",
       "      <td>336.770000</td>\n",
       "      <td>336.770000</td>\n",
       "    </tr>\n",
       "  </tbody>\n",
       "</table>\n",
       "</div>"
      ],
      "text/plain": [
       "             Open        High         Low       Close    AdjClose\n",
       "count  253.000000  253.000000  253.000000  253.000000  253.000000\n",
       "mean   286.964466  289.328063  284.412095  286.978617  286.978617\n",
       "std     28.923683   28.241142   29.535528   28.889053   28.889053\n",
       "min    223.980000  225.770000  216.460000  223.920000  223.920000\n",
       "25%    267.840000  270.400000  264.310000  267.840000  267.840000\n",
       "50%    290.520000  292.470000  288.340000  290.520000  290.520000\n",
       "75%    308.940000  310.270000  307.420000  308.960000  308.960000\n",
       "max    336.770000  337.890000  334.460000  336.770000  336.770000"
      ]
     },
     "execution_count": 5,
     "metadata": {},
     "output_type": "execute_result"
    }
   ],
   "source": [
    "sp_data.describe()"
   ]
  },
  {
   "cell_type": "code",
   "execution_count": 6,
   "id": "9834c468",
   "metadata": {},
   "outputs": [
    {
     "data": {
      "text/plain": [
       "Date         object\n",
       "Open        float64\n",
       "High        float64\n",
       "Low         float64\n",
       "Close       float64\n",
       "AdjClose    float64\n",
       "Volume       object\n",
       "dtype: object"
      ]
     },
     "execution_count": 6,
     "metadata": {},
     "output_type": "execute_result"
    }
   ],
   "source": [
    "sp_data.dtypes"
   ]
  },
  {
   "cell_type": "code",
   "execution_count": 8,
   "id": "76d513da",
   "metadata": {},
   "outputs": [
    {
     "data": {
      "text/plain": [
       "Date        datetime64[ns]\n",
       "Open               float64\n",
       "High               float64\n",
       "Low                float64\n",
       "Close              float64\n",
       "AdjClose           float64\n",
       "Volume              object\n",
       "dtype: object"
      ]
     },
     "execution_count": 8,
     "metadata": {},
     "output_type": "execute_result"
    }
   ],
   "source": [
    "sp_data['Date'] = pd.to_datetime(sp_data['Date'])\n",
    "\n",
    "sp_data.dtypes"
   ]
  },
  {
   "cell_type": "code",
   "execution_count": 9,
   "id": "e639325e",
   "metadata": {},
   "outputs": [
    {
     "data": {
      "text/plain": [
       "Text(0.5, 1.0, 'S&P 500 1987')"
      ]
     },
     "execution_count": 9,
     "metadata": {},
     "output_type": "execute_result"
    },
    {
     "data": {
      "image/png": "[encoded data removed]",
      "text/plain": [
       "<Figure size 864x576 with 1 Axes>"
      ]
     },
     "metadata": {
      "needs_background": "light"
     },
     "output_type": "display_data"
    }
   ],
   "source": [
    "plt.figure(figsize=(12,8))\n",
    "\n",
    "sns.lineplot(data=sp_data, x='Date', y='AdjClose', color='red')\n",
    "\n",
    "plt.title('S&P 500 1987')"
   ]
  },
  {
   "cell_type": "code",
   "execution_count": 12,
   "id": "7cfd2e12",
   "metadata": {},
   "outputs": [
    {
     "data": {
      "text/html": [
       "<div>\n",
       "<style scoped>\n",
       "    .dataframe tbody tr th:only-of-type {\n",
       "        vertical-align: middle;\n",
       "    }\n",
       "\n",
       "    .dataframe tbody tr th {\n",
       "        vertical-align: top;\n",
       "    }\n",
       "\n",
       "    .dataframe thead th {\n",
       "        text-align: right;\n",
       "    }\n",
       "</style>\n",
       "<table border=\"1\" class=\"dataframe\">\n",
       "  <thead>\n",
       "    <tr style=\"text-align: right;\">\n",
       "      <th></th>\n",
       "      <th>Date</th>\n",
       "      <th>Open</th>\n",
       "      <th>High</th>\n",
       "      <th>Low</th>\n",
       "      <th>Close</th>\n",
       "      <th>AdjClose</th>\n",
       "      <th>Volume</th>\n",
       "      <th>Returns</th>\n",
       "    </tr>\n",
       "  </thead>\n",
       "  <tbody>\n",
       "    <tr>\n",
       "      <th>0</th>\n",
       "      <td>1986-12-31</td>\n",
       "      <td>243.37</td>\n",
       "      <td>244.03</td>\n",
       "      <td>241.28</td>\n",
       "      <td>242.17</td>\n",
       "      <td>242.17</td>\n",
       "      <td>13,92,00,000</td>\n",
       "      <td>NaN</td>\n",
       "    </tr>\n",
       "    <tr>\n",
       "      <th>1</th>\n",
       "      <td>1987-01-02</td>\n",
       "      <td>242.17</td>\n",
       "      <td>246.45</td>\n",
       "      <td>242.17</td>\n",
       "      <td>246.45</td>\n",
       "      <td>246.45</td>\n",
       "      <td>9,18,80,000</td>\n",
       "      <td>0.017674</td>\n",
       "    </tr>\n",
       "    <tr>\n",
       "      <th>2</th>\n",
       "      <td>1987-01-05</td>\n",
       "      <td>246.45</td>\n",
       "      <td>252.57</td>\n",
       "      <td>246.45</td>\n",
       "      <td>252.19</td>\n",
       "      <td>252.19</td>\n",
       "      <td>18,19,00,000</td>\n",
       "      <td>0.023291</td>\n",
       "    </tr>\n",
       "    <tr>\n",
       "      <th>3</th>\n",
       "      <td>1987-01-06</td>\n",
       "      <td>252.20</td>\n",
       "      <td>253.99</td>\n",
       "      <td>252.14</td>\n",
       "      <td>252.78</td>\n",
       "      <td>252.78</td>\n",
       "      <td>18,93,00,000</td>\n",
       "      <td>0.002340</td>\n",
       "    </tr>\n",
       "    <tr>\n",
       "      <th>4</th>\n",
       "      <td>1987-01-07</td>\n",
       "      <td>252.78</td>\n",
       "      <td>255.72</td>\n",
       "      <td>252.65</td>\n",
       "      <td>255.33</td>\n",
       "      <td>255.33</td>\n",
       "      <td>19,09,00,000</td>\n",
       "      <td>0.010088</td>\n",
       "    </tr>\n",
       "  </tbody>\n",
       "</table>\n",
       "</div>"
      ],
      "text/plain": [
       "        Date    Open    High     Low   Close  AdjClose        Volume   Returns\n",
       "0 1986-12-31  243.37  244.03  241.28  242.17    242.17  13,92,00,000       NaN\n",
       "1 1987-01-02  242.17  246.45  242.17  246.45    246.45   9,18,80,000  0.017674\n",
       "2 1987-01-05  246.45  252.57  246.45  252.19    252.19  18,19,00,000  0.023291\n",
       "3 1987-01-06  252.20  253.99  252.14  252.78    252.78  18,93,00,000  0.002340\n",
       "4 1987-01-07  252.78  255.72  252.65  255.33    255.33  19,09,00,000  0.010088"
      ]
     },
     "execution_count": 12,
     "metadata": {},
     "output_type": "execute_result"
    }
   ],
   "source": [
    "sp_data['Returns'] = sp_data['AdjClose'].pct_change()\n",
    "\n",
    "sp_data.head()"
   ]
  },
  {
   "cell_type": "code",
   "execution_count": 13,
   "id": "a6047b23",
   "metadata": {},
   "outputs": [
    {
     "data": {
      "text/html": [
       "<div>\n",
       "<style scoped>\n",
       "    .dataframe tbody tr th:only-of-type {\n",
       "        vertical-align: middle;\n",
       "    }\n",
       "\n",
       "    .dataframe tbody tr th {\n",
       "        vertical-align: top;\n",
       "    }\n",
       "\n",
       "    .dataframe thead th {\n",
       "        text-align: right;\n",
       "    }\n",
       "</style>\n",
       "<table border=\"1\" class=\"dataframe\">\n",
       "  <thead>\n",
       "    <tr style=\"text-align: right;\">\n",
       "      <th></th>\n",
       "      <th>Date</th>\n",
       "      <th>Open</th>\n",
       "      <th>High</th>\n",
       "      <th>Low</th>\n",
       "      <th>Close</th>\n",
       "      <th>AdjClose</th>\n",
       "      <th>Volume</th>\n",
       "      <th>Returns</th>\n",
       "    </tr>\n",
       "  </thead>\n",
       "  <tbody>\n",
       "    <tr>\n",
       "      <th>1</th>\n",
       "      <td>1987-01-02</td>\n",
       "      <td>242.17</td>\n",
       "      <td>246.45</td>\n",
       "      <td>242.17</td>\n",
       "      <td>246.45</td>\n",
       "      <td>246.45</td>\n",
       "      <td>9,18,80,000</td>\n",
       "      <td>0.017674</td>\n",
       "    </tr>\n",
       "    <tr>\n",
       "      <th>2</th>\n",
       "      <td>1987-01-05</td>\n",
       "      <td>246.45</td>\n",
       "      <td>252.57</td>\n",
       "      <td>246.45</td>\n",
       "      <td>252.19</td>\n",
       "      <td>252.19</td>\n",
       "      <td>18,19,00,000</td>\n",
       "      <td>0.023291</td>\n",
       "    </tr>\n",
       "    <tr>\n",
       "      <th>3</th>\n",
       "      <td>1987-01-06</td>\n",
       "      <td>252.20</td>\n",
       "      <td>253.99</td>\n",
       "      <td>252.14</td>\n",
       "      <td>252.78</td>\n",
       "      <td>252.78</td>\n",
       "      <td>18,93,00,000</td>\n",
       "      <td>0.002340</td>\n",
       "    </tr>\n",
       "    <tr>\n",
       "      <th>4</th>\n",
       "      <td>1987-01-07</td>\n",
       "      <td>252.78</td>\n",
       "      <td>255.72</td>\n",
       "      <td>252.65</td>\n",
       "      <td>255.33</td>\n",
       "      <td>255.33</td>\n",
       "      <td>19,09,00,000</td>\n",
       "      <td>0.010088</td>\n",
       "    </tr>\n",
       "    <tr>\n",
       "      <th>5</th>\n",
       "      <td>1987-01-08</td>\n",
       "      <td>255.36</td>\n",
       "      <td>257.28</td>\n",
       "      <td>254.97</td>\n",
       "      <td>257.28</td>\n",
       "      <td>257.28</td>\n",
       "      <td>19,45,00,000</td>\n",
       "      <td>0.007637</td>\n",
       "    </tr>\n",
       "  </tbody>\n",
       "</table>\n",
       "</div>"
      ],
      "text/plain": [
       "        Date    Open    High     Low   Close  AdjClose        Volume   Returns\n",
       "1 1987-01-02  242.17  246.45  242.17  246.45    246.45   9,18,80,000  0.017674\n",
       "2 1987-01-05  246.45  252.57  246.45  252.19    252.19  18,19,00,000  0.023291\n",
       "3 1987-01-06  252.20  253.99  252.14  252.78    252.78  18,93,00,000  0.002340\n",
       "4 1987-01-07  252.78  255.72  252.65  255.33    255.33  19,09,00,000  0.010088\n",
       "5 1987-01-08  255.36  257.28  254.97  257.28    257.28  19,45,00,000  0.007637"
      ]
     },
     "execution_count": 13,
     "metadata": {},
     "output_type": "execute_result"
    }
   ],
   "source": [
    "sp_data = sp_data.dropna()\n",
    "sp_data.head()"
   ]
  },
  {
   "cell_type": "code",
   "execution_count": 14,
   "id": "274e3fa4",
   "metadata": {},
   "outputs": [
    {
     "data": {
      "image/png": "[encoded data removed]",
      "text/plain": [
       "<Figure size 864x576 with 1 Axes>"
      ]
     },
     "metadata": {
      "needs_background": "light"
     },
     "output_type": "display_data"
    }
   ],
   "source": [
    "plt.figure(figsize=(12,8))\n",
    "\n",
    "sns.histplot(data=sp_data, x='Returns')\n",
    "\n",
    "plt.title('S&P 500 1987')\n",
    "\n",
    "plt.show()"
   ]
  },
  {
   "cell_type": "code",
   "execution_count": 15,
   "id": "b6f3e6ac",
   "metadata": {},
   "outputs": [
    {
     "data": {
      "image/png": "[encoded data removed]",
      "text/plain": [
       "<Figure size 864x576 with 1 Axes>"
      ]
     },
     "metadata": {
      "needs_background": "light"
     },
     "output_type": "display_data"
    }
   ],
   "source": [
    "plt.figure(figsize=(12,8))\n",
    "\n",
    "sns.kdeplot(data=sp_data, x='Returns')\n",
    "\n",
    "plt.title('S&P 500 1987')\n",
    "\n",
    "plt.show()"
   ]
  },
  {
   "cell_type": "code",
   "execution_count": 16,
   "id": "a57cf217",
   "metadata": {},
   "outputs": [
    {
     "data": {
      "text/plain": [
       "-4.063006900553241"
      ]
     },
     "execution_count": 16,
     "metadata": {},
     "output_type": "execute_result"
    }
   ],
   "source": [
    "sp_data['Returns'].skew(axis=0)"
   ]
  },
  {
   "cell_type": "code",
   "execution_count": 17,
   "id": "866bf3ea",
   "metadata": {},
   "outputs": [
    {
     "data": {
      "text/plain": [
       "(-4.038782236530137,\n",
       " 0.033689707286255054,\n",
       " -0.11690104948849872,\n",
       " -0.06460582304845877)"
      ]
     },
     "execution_count": 17,
     "metadata": {},
     "output_type": "execute_result"
    }
   ],
   "source": [
    "sm.stats.stattools.robust_skewness(sp_data['Returns'])"
   ]
  },
  {
   "cell_type": "code",
   "execution_count": null,
   "id": "d502d1b3",
   "metadata": {},
   "outputs": [],
   "source": []
  }
 ],
 "metadata": {
  "kernelspec": {
   "display_name": "Python 3 (ipykernel)",
   "language": "python",
   "name": "python3"
  },
  "language_info": {
   "codemirror_mode": {
    "name": "ipython",
    "version": 3
   },
   "file_extension": ".py",
   "mimetype": "text/x-python",
   "name": "python",
   "nbconvert_exporter": "python",
   "pygments_lexer": "ipython3",
   "version": "3.10.4"
  }
 },
 "nbformat": 4,
 "nbformat_minor": 5
}

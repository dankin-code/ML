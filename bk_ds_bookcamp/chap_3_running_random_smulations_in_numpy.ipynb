{
 "cells": [
  {
   "cell_type": "code",
   "execution_count": 19,
   "id": "9e32ed28",
   "metadata": {},
   "outputs": [],
   "source": [
    "import numpy as np"
   ]
  },
  {
   "cell_type": "code",
   "execution_count": null,
   "id": "52ccb6d3",
   "metadata": {},
   "outputs": [],
   "source": []
  },
  {
   "cell_type": "code",
   "execution_count": 20,
   "id": "c519da67",
   "metadata": {},
   "outputs": [],
   "source": [
    "# simulate randomly rolled die\n",
    "die_roll = np.random.randint(1, 7)\n",
    "assert 1 <= die_roll <= 6"
   ]
  },
  {
   "cell_type": "code",
   "execution_count": 21,
   "id": "b3020457",
   "metadata": {},
   "outputs": [
    {
     "data": {
      "text/plain": [
       "2"
      ]
     },
     "execution_count": 21,
     "metadata": {},
     "output_type": "execute_result"
    }
   ],
   "source": [
    "die_roll"
   ]
  },
  {
   "cell_type": "code",
   "execution_count": 22,
   "id": "16f48da0",
   "metadata": {},
   "outputs": [],
   "source": [
    "# seeding reproducible random die rolls\n",
    "np.random.seed(0)\n",
    "die_rolls = [np.random.randint(1,7) for _ in range(3)]"
   ]
  },
  {
   "cell_type": "code",
   "execution_count": 23,
   "id": "1236f96a",
   "metadata": {},
   "outputs": [],
   "source": [
    "assert die_rolls == [5,6,1]"
   ]
  },
  {
   "cell_type": "code",
   "execution_count": 24,
   "id": "4f8acd38",
   "metadata": {},
   "outputs": [
    {
     "name": "stdout",
     "output_type": "stream",
     "text": [
      "Coin landed on tails\n"
     ]
    }
   ],
   "source": [
    "# let's generate a single flip of an unbiased coin\n",
    "np.random.seed(0)\n",
    "coin_flip = np.random.randint(0,2)\n",
    "print(f\"Coin landed on {'heads' if coin_flip == 1 else 'tails'}\")"
   ]
  },
  {
   "cell_type": "code",
   "execution_count": 25,
   "id": "efc7cf11",
   "metadata": {},
   "outputs": [
    {
     "name": "stdout",
     "output_type": "stream",
     "text": [
      "Frequency of Heads is 0.8\n"
     ]
    }
   ],
   "source": [
    "# generate a sequence of 10 coin flips and then compute \n",
    "# the observed frequency of head\n",
    "np.random.seed(0)\n",
    "def frequency_head(coin_flip_sequence):\n",
    "    total_heads = len([head for head in coin_flip_sequence if head == 1])\n",
    "    return total_heads / len(coin_flip_sequence)\n",
    "\n",
    "coin_flips = [np.random.randint(0,2) for _ in range(10)]\n",
    "freq_heads = frequency_head(coin_flips)\n",
    "print(F\"Frequency of Heads is {freq_heads}\")"
   ]
  },
  {
   "cell_type": "code",
   "execution_count": 26,
   "id": "1cb4ac5c",
   "metadata": {},
   "outputs": [],
   "source": [
    "# the observed frequency is 0.8 which is quite disproportional to the actual\n",
    "# probabilty of heads. 10 coin flips with produce such extreme frequencies\n",
    "# approximately 10% of the time\n",
    "# Let's see what happens when we flip the coin 1000 times"
   ]
  },
  {
   "cell_type": "code",
   "execution_count": 27,
   "id": "233837a6",
   "metadata": {},
   "outputs": [
    {
     "data": {
      "image/png": "[encoded data removed]",
      "text/plain": [
       "<Figure size 432x288 with 1 Axes>"
      ]
     },
     "metadata": {
      "needs_background": "light"
     },
     "output_type": "display_data"
    }
   ],
   "source": [
    "np.random.seed(0)\n",
    "coin_flips = []\n",
    "frequencies = []\n",
    "for _ in range(1000):\n",
    "    coin_flips.append(np.random.randint(0,2))\n",
    "    frequencies.append(frequency_head(coin_flips))\n",
    "\n",
    "import matplotlib.pyplot as plt\n",
    "plt.plot(list(range(1000)), frequencies)\n",
    "plt.axhline(0.5, color='k')\n",
    "plt.xlabel('Number of Coin Flips')\n",
    "plt.ylabel('Head-Frequency')\n",
    "plt.show()"
   ]
  },
  {
   "cell_type": "code",
   "execution_count": 28,
   "id": "7b794d78",
   "metadata": {},
   "outputs": [],
   "source": [
    "# the probability of e=heads slowly converges to 0.5. Thus the law \n",
    "# of large numbers appears to hold up"
   ]
  },
  {
   "cell_type": "markdown",
   "id": "39e562ce",
   "metadata": {},
   "source": [
    "### 3.1.1 Analyzing biased coin flip"
   ]
  },
  {
   "cell_type": "code",
   "execution_count": 29,
   "id": "734ac1a9",
   "metadata": {},
   "outputs": [],
   "source": [
    "# we've simulated a sequence of unbiased coin flips, but waht if we wish to\n",
    "# simulate a coin that falls on heads 70% of the time?\n",
    "# we can generate the biased output by calling np.random.bionomial(1, 0.7)"
   ]
  },
  {
   "cell_type": "code",
   "execution_count": 30,
   "id": "d7956c86",
   "metadata": {},
   "outputs": [
    {
     "name": "stdout",
     "output_type": "stream",
     "text": [
      "Let's flip the biased coin once.\n",
      "Biased coin landed on heads.\n",
      "\n",
      "Let's flip the biased coin 10 times.\n",
      "6 heads were observed out of 10 biased coin flips\n"
     ]
    }
   ],
   "source": [
    "np.random.seed(0)\n",
    "print(\"Let's flip the biased coin once.\")\n",
    "coin_flip = np.random.binomial(1, 0.7)\n",
    "print(f\"Biased coin landed on {'heads' if coin_flip == 1 else 'tails'}.\")\n",
    "\n",
    "print(\"\\nLet's flip the biased coin 10 times.\")\n",
    "number_coin_flips = 10\n",
    "head_count = np.random.binomial(number_coin_flips, 0.7)\n",
    "print(f\"{head_count} heads were observed out of {number_coin_flips} biased coin flips\")\n",
    " "
   ]
  },
  {
   "cell_type": "code",
   "execution_count": 31,
   "id": "c1356d55",
   "metadata": {},
   "outputs": [
    {
     "name": "stdout",
     "output_type": "stream",
     "text": [
      "Frequency of Heads is 0.697\n"
     ]
    }
   ],
   "source": [
    "# let's generate a sequence of 1,000 biased coin flips\n",
    "# we then check if the frequency converges to 0.7\n",
    "np.random.seed(0)\n",
    "head_count = np.random.binomial(1000, 0.7)\n",
    "frequency = head_count / 1000\n",
    "print(f\"Frequency of Heads is {frequency}\")"
   ]
  },
  {
   "cell_type": "code",
   "execution_count": 32,
   "id": "a78ec7e5",
   "metadata": {},
   "outputs": [
    {
     "name": "stdout",
     "output_type": "stream",
     "text": [
      "Frequency at iteration 1 is 0.69\n",
      "Frequency at iteration 2 is 0.7\n",
      "Frequency equals the probability!\n",
      "\n",
      "Frequency at iteration 3 is 0.707\n",
      "Frequency at iteration 4 is 0.702\n",
      "Frequency at iteration 5 is 0.699\n"
     ]
    }
   ],
   "source": [
    "# suppose we recompute the frequency of 1000 coin flips five more times\n",
    "# will all the frequencies be lower than 0.7?\n",
    "# will certain frequencies hit the exact value of 0.7?\n",
    "# let's find out by executing np.random.binomial(1000, 0.7) over five looped iterations\n",
    "\n",
    "np.random.seed(0)\n",
    "assert np.random.binomial(1000, 0.7) / 1000 == 0.697\n",
    "for i in range (1,6):\n",
    "    head_count = np.random.binomial(1000, 0.7)\n",
    "    frequency = head_count / 1000\n",
    "    print(f\"Frequency at iteration {i} is {frequency}\")\n",
    "    if frequency == 0.7:\n",
    "        print(\"Frequency equals the probability!\\n\")"
   ]
  },
  {
   "cell_type": "code",
   "execution_count": 33,
   "id": "5a430ff5",
   "metadata": {},
   "outputs": [],
   "source": [
    "# computing confidence intervals \n",
    "# using histograms and NumPy arrays"
   ]
  },
  {
   "cell_type": "code",
   "execution_count": 34,
   "id": "49dbcf55",
   "metadata": {},
   "outputs": [],
   "source": [
    "np.random.seed(0)\n",
    "head_count_list = [np.random.binomial(1000, 0.7) for _ in range(500)]\n",
    "head_count_array = np.random.binomial(1000, 0.7, 500)"
   ]
  },
  {
   "cell_type": "code",
   "execution_count": 35,
   "id": "25a5d994",
   "metadata": {},
   "outputs": [
    {
     "ename": "AssertionError",
     "evalue": "",
     "output_type": "error",
     "traceback": [
      "\u001b[1;31m---------------------------------------------------------------------------\u001b[0m",
      "\u001b[1;31mAssertionError\u001b[0m                            Traceback (most recent call last)",
      "Input \u001b[1;32mIn [35]\u001b[0m, in \u001b[0;36m<cell line: 2>\u001b[1;34m()\u001b[0m\n\u001b[0;32m      1\u001b[0m frequency_array \u001b[38;5;241m=\u001b[39m head_count_array \u001b[38;5;241m/\u001b[39m \u001b[38;5;241m1000\u001b[39m\n\u001b[1;32m----> 2\u001b[0m \u001b[38;5;28;01massert\u001b[39;00m frequency_array\u001b[38;5;241m.\u001b[39mtolist() \u001b[38;5;241m==\u001b[39m [head_count \u001b[38;5;241m/\u001b[39m \u001b[38;5;241m1000\u001b[39m \u001b[38;5;28;01mfor\u001b[39;00m head_count \u001b[38;5;129;01min\u001b[39;00m head_count_list]\n\u001b[0;32m      3\u001b[0m \u001b[38;5;28;01massert\u001b[39;00m frequency_array\u001b[38;5;241m.\u001b[39mtolist() \u001b[38;5;241m==\u001b[39m \u001b[38;5;28mlist\u001b[39m(\u001b[38;5;28mmap\u001b[39m(\u001b[38;5;28;01mlambda\u001b[39;00m x:x \u001b[38;5;241m/\u001b[39m \u001b[38;5;241m1000\u001b[39m, head_count_list))\n",
      "\u001b[1;31mAssertionError\u001b[0m: "
     ]
    }
   ],
   "source": [
    "frequency_array = head_count_array / 1000\n",
    "assert frequency_array.tolist() == [head_count / 1000 for head_count in head_count_list]\n",
    "assert frequency_array.tolist() == list(map(lambda x:x / 1000, head_count_list))"
   ]
  },
  {
   "cell_type": "code",
   "execution_count": null,
   "id": "65ecde29",
   "metadata": {},
   "outputs": [],
   "source": [
    "print(frequency_array[:20])"
   ]
  },
  {
   "cell_type": "code",
   "execution_count": null,
   "id": "d78d641b",
   "metadata": {},
   "outputs": [],
   "source": [
    "# finding the larget and smallest frequncy values\n",
    "min_freq = frequency_array.min()\n",
    "max_freq = frequency_array.max()\n",
    "print(f\"Minimum frequency observed: {min_freq}\")\n",
    "print(f\"Maximum frequency observed: {max_freq}\")\n",
    "print(f\"Difference accross frequency range: {max_freq - min_freq}\")"
   ]
  },
  {
   "cell_type": "code",
   "execution_count": null,
   "id": "c75637ca",
   "metadata": {},
   "outputs": [],
   "source": [
    "from collections import defaultdict\n",
    "frequency_counts = defaultdict(int)\n",
    "for frequency in frequency_array:\n",
    "    frequency_counts[frequency] += 1\n",
    "    \n",
    "frequencies = list(frequency_counts.keys())\n",
    "counts = [frequency_counts[freq] for freq in frequencies]\n",
    "\n",
    "plt.scatter(frequencies, counts)\n",
    "plt.xlabel('Frequency')\n",
    "plt.ylabel('Count')\n",
    "plt.show()"
   ]
  },
  {
   "cell_type": "code",
   "execution_count": null,
   "id": "992bd2a9",
   "metadata": {},
   "outputs": [],
   "source": [
    "# a scatter plot of 500 head-count frequencies plotted\n",
    "# against the frequncies plotted agains the frequency\n",
    "# counts. the frequencies are centered around0.7. Certain \n",
    "# proximate frequencings appear as overlappn"
   ]
  },
  {
   "cell_type": "code",
   "execution_count": null,
   "id": "1880a8b6",
   "metadata": {},
   "outputs": [],
   "source": [
    "# plot a frequency histogram\n",
    "plt.hist(frequency_array, bins='auto', edgecolor='black')\n",
    "plt.xlabel('Binned Frequency')\n",
    "plt.ylabel('Count')\n",
    "plt.show()"
   ]
  },
  {
   "cell_type": "code",
   "execution_count": null,
   "id": "9e603073",
   "metadata": {},
   "outputs": [],
   "source": [
    "# counting bins in a plotted histogram\n",
    "counts, _, _ = plt.hist(frequency_array, bins='auto', edgecolor='black')\n",
    "print(f\"Number of Bins: {counts.size}\")"
   ]
  },
  {
   "cell_type": "code",
   "execution_count": null,
   "id": "342cf488",
   "metadata": {},
   "outputs": [],
   "source": [
    "# find the width of bins in a histogram\n",
    "counts, bin_edges, _ = plt.hist(frequency_array, bins='auto', edgecolor='black')\n",
    "bin_width = bin_edges[1] - bin_edges[0]\n",
    "assert bin_width == (max_freq - min_freq) / counts.size\n",
    "print(f\"Bin width: {bin_width}\")"
   ]
  },
  {
   "cell_type": "code",
   "execution_count": null,
   "id": "6556c848",
   "metadata": {},
   "outputs": [],
   "source": [
    "# getting a bin's frequency and size\n",
    "def output_bin_coverage(i):\n",
    "    # a bin at position i contains counts[i] frequencies\n",
    "    count = int(counts[i])\n",
    "    range_start, range_end = bin_edges[i], bin_edges[i+1]\n",
    "    range_string = f\"{range_start} - {range_end}\"\n",
    "    print((f\"The bin for frequency range {range_string} contains \" f\"{count } element{'' if count == 1 else 's'}\"))"
   ]
  },
  {
   "cell_type": "code",
   "execution_count": null,
   "id": "18c2bcdc",
   "metadata": {},
   "outputs": [],
   "source": [
    "output_bin_coverage(0)\n",
    "output_bin_coverage(5)"
   ]
  },
  {
   "cell_type": "code",
   "execution_count": null,
   "id": "9c662db5",
   "metadata": {},
   "outputs": [],
   "source": [
    "# finding the index of an array's maximum value\n",
    "assert counts[counts.argmax()] == counts.max()"
   ]
  },
  {
   "cell_type": "code",
   "execution_count": null,
   "id": "50202643",
   "metadata": {},
   "outputs": [],
   "source": [
    "# using argmax to return a histogram's peak\n",
    "output_bin_coverage(counts.argmax())"
   ]
  },
  {
   "cell_type": "markdown",
   "id": "9d87b306",
   "metadata": {},
   "source": [
    "### Deriving probabilities from histograms"
   ]
  },
  {
   "cell_type": "code",
   "execution_count": null,
   "id": "86f5b9e1",
   "metadata": {},
   "outputs": [],
   "source": [
    "likelihoods, bin_edges, _ = plt.hist(frequency_array, bins='auto', edgecolor='black', density=True)\n",
    "plt.xlabel('Binned Frequency')\n",
    "plt.ylabel('Relative Likelihood')\n",
    "plt.show()\n"
   ]
  },
  {
   "cell_type": "code",
   "execution_count": null,
   "id": "02fc3eb3",
   "metadata": {},
   "outputs": [],
   "source": [
    "# the binned counts have now been replaced by relative"
   ]
  },
  {
   "cell_type": "code",
   "execution_count": null,
   "id": "cc791873",
   "metadata": {},
   "outputs": [],
   "source": [
    "# computing the total area under a histogram\n",
    "likelihoods.argmax()\n",
    "# assert likelihoods.sum() * bin_width == 1.0"
   ]
  },
  {
   "cell_type": "code",
   "execution_count": null,
   "id": "8fc6c5ea",
   "metadata": {},
   "outputs": [],
   "source": [
    "# computing the probability of the peak frequencies\n",
    "index = likelihoods.argmax()\n",
    "area = likelihoods[index] * bin_width\n",
    "range_start, range_end = bin_edges[index], bin_edges[index+1]\n",
    "range_string = f\"{range_start} - {range_end}\"\n",
    "print(f\"Sampled frequency falls within interval {range_string} with probability {area}\")"
   ]
  },
  {
   "cell_type": "code",
   "execution_count": null,
   "id": "d6e5d135",
   "metadata": {},
   "outputs": [],
   "source": [
    "# increasing the probability of a frequency range\n",
    "peak_index = likelihoods.argmax()\n",
    "start_index, end_index = (peak_index - 1, peak_index + 2)\n",
    "area = likelihoods[start_index: end_index + 1].sum() * bin_width\n",
    "range_start, range_end = bin_edges[start_index], bin_edges[end_index]\n",
    "range_string = f\"{range_start} - {range_end}\"\n",
    "print(f\"Sampled frequency falls within interval {range_string} with probability {area}\")"
   ]
  },
  {
   "cell_type": "code",
   "execution_count": null,
   "id": "f4ee0a1d",
   "metadata": {},
   "outputs": [],
   "source": [
    "# computing a high confidence level\n",
    "def compute_high_confidence_interval(likelihoods, bin_width):\n",
    "    peak_index = likelihoods.argmax()\n",
    "    area = likelihoods[peak_index] * bin_width\n",
    "    start_index, end_index = peak_index, peak_index + 1\n",
    "    while area < 0.95:\n",
    "        if start_index > 0:\n",
    "            start_index -= 1\n",
    "        if end_index < likelihoods.size - 1:\n",
    "            end_index += 1\n",
    "            \n",
    "        area = likelihoods[start_index: end_index + 1].sum() * bin_width\n",
    "        \n",
    "    range_start, range_end = bin_edges[start_index], bin_edges[end_index]\n",
    "    range_string = f\"{range_start:.6f} - {range_end:.6f}\"\n",
    "    print((f\"The frequency range {range_string} represents a {100 * area:.2f} % confidence interval\"))\n",
    "    return start_index, end_index\n",
    "\n",
    "compute_high_confidence_interval(likelihoods, bin_width)"
   ]
  },
  {
   "cell_type": "code",
   "execution_count": null,
   "id": "1705825a",
   "metadata": {},
   "outputs": [],
   "source": [
    "# shrinking the range of a high confidence interval\n",
    "np.random.seed(0)\n",
    "head_count_array = np.random.binomial(1000, 0.7, 100000)\n",
    "frequency_array = head_count_array / 1000\n",
    "assert frequency_array.size == 100000"
   ]
  },
  {
   "cell_type": "code",
   "execution_count": null,
   "id": "2bba6fa5",
   "metadata": {},
   "outputs": [],
   "source": [
    "# coloring histogram bars over an interval\n",
    "likelihoods, bin_edges, patches = plt.hist(frequency_array, bins='auto', edgecolor='black', density=True)\n",
    "bin_width = bin_edges[1] - bin_edges[0]\n",
    "start_index, end_index = compute_high_confidence_interval(likelihoods, bin_width)\n",
    "\n",
    "for i in range(start_index, end_index):\n",
    "    patches[i].set_facecolor('yellow')\n",
    "plt.xlabel('Binned Frequency')\n",
    "plt.ylabel('Relative Likelihood')\n",
    "plt.show()"
   ]
  },
  {
   "cell_type": "code",
   "execution_count": null,
   "id": "66ea31cf",
   "metadata": {},
   "outputs": [],
   "source": [
    "# the recomputed histogram resembles a symmetric bell-shaped\n",
    "# curve. many of its bars have been highlighted ising the \n",
    "# set_facecolor method"
   ]
  },
  {
   "cell_type": "markdown",
   "id": "43a7585b",
   "metadata": {},
   "source": [
    "### Sampling 5 billion flipped coins"
   ]
  },
  {
   "cell_type": "code",
   "execution_count": null,
   "id": "2aba2d7e",
   "metadata": {},
   "outputs": [],
   "source": [
    "np.random.seed(0)\n",
    "head_count_array = np.random.binomial(50000, 0.7, 100000)\n",
    "frequency_array = head_count_array / 50000\n",
    "\n",
    "likelihoods, bin_edges, patches = plt.hist(frequency_array, bins='auto', edgecolor='black', density=True)\n",
    "bin_width = bin_edges[1] - bin_edges[0]\n",
    "start_index, end_index = compute_high_confidence_interval(likelihoods, bin_width)\n",
    "\n",
    "for i in range(start_index, end_index):\n",
    "    patches[i].set_facecolor('yellow')\n",
    "plt.xlabel('Binned Frequency')\n",
    "plt.ylabel('Relative Likelihood')\n",
    "plt.show()"
   ]
  },
  {
   "cell_type": "code",
   "execution_count": null,
   "id": "c19ac236",
   "metadata": {},
   "outputs": [],
   "source": [
    "# a histogram of 100,000 binned frequencies plotted\n",
    "# against their associated likelihoods, Highlighted bars\n",
    "# delineat the 95% confidence interval, which represents\n",
    "# 95% of the histogram's area. "
   ]
  },
  {
   "cell_type": "markdown",
   "id": "484ba36c",
   "metadata": {},
   "source": [
    "### Computing a histogram using np.histogram"
   ]
  },
  {
   "cell_type": "code",
   "execution_count": null,
   "id": "dd5b8871",
   "metadata": {},
   "outputs": [],
   "source": [
    "# we can bypass the vizualization by simply calling np.histogram\n",
    "np.random.seed(0)\n",
    "likelihoods, din_edges = np.histogram(frequency_array, bins='auto', density=True)\n",
    "bin_width = bin_edges[1] - bin_edges[0]\n",
    "compute_high_confidence_interval(likelihoods, bin_width)"
   ]
  },
  {
   "cell_type": "markdown",
   "id": "ff45c4d0",
   "metadata": {},
   "source": [
    "### Using confidence interval to analyze a biased deck of cards"
   ]
  },
  {
   "cell_type": "code",
   "execution_count": null,
   "id": "6abf1689",
   "metadata": {},
   "outputs": [],
   "source": [
    "# suppose you are shown a biased 52-card deck. Each\n",
    "# card is either red or black, but the color counts \n",
    "# aren't equal."
   ]
  },
  {
   "cell_type": "code",
   "execution_count": 40,
   "id": "cefd11c0",
   "metadata": {},
   "outputs": [
    {
     "ename": "TypeError",
     "evalue": "unsupported operand type(s) for +: 'function' and 'dict'",
     "output_type": "error",
     "traceback": [
      "\u001b[1;31m---------------------------------------------------------------------------\u001b[0m",
      "\u001b[1;31mTypeError\u001b[0m                                 Traceback (most recent call last)",
      "Input \u001b[1;32mIn [40]\u001b[0m, in \u001b[0;36m<cell line: 13>\u001b[1;34m()\u001b[0m\n\u001b[0;32m     11\u001b[0m     \u001b[38;5;28;01mreturn\u001b[39;00m red_card_count \u001b[38;5;241m/\u001b[39m ( red_card_count \u001b[38;5;241m+\u001b[39m black_card_count)\n\u001b[0;32m     12\u001b[0m weighted_sample_space \u001b[38;5;241m=\u001b[39m {\u001b[38;5;124m'\u001b[39m\u001b[38;5;124mred_card\u001b[39m\u001b[38;5;124m'\u001b[39m: red_card_count, \u001b[38;5;124m'\u001b[39m\u001b[38;5;124mblack_card\u001b[39m\u001b[38;5;124m'\u001b[39m : black_card_count }\n\u001b[1;32m---> 13\u001b[0m prob_red \u001b[38;5;241m=\u001b[39m \u001b[43mcompute_event_probability\u001b[49m\u001b[43m(\u001b[49m\u001b[38;5;28;43;01mlambda\u001b[39;49;00m\u001b[43m \u001b[49m\u001b[43mx\u001b[49m\u001b[43m:\u001b[49m\u001b[43mx\u001b[49m\u001b[43m \u001b[49m\u001b[38;5;241;43m==\u001b[39;49m\u001b[43m \u001b[49m\u001b[38;5;124;43m'\u001b[39;49m\u001b[38;5;124;43mred_card\u001b[39;49m\u001b[38;5;124;43m'\u001b[39;49m\u001b[43m,\u001b[49m\u001b[43m \u001b[49m\u001b[43mweighted_sample_space\u001b[49m\u001b[43m)\u001b[49m\n\u001b[0;32m     14\u001b[0m np\u001b[38;5;241m.\u001b[39mrandom\u001b[38;5;241m.\u001b[39mseed(\u001b[38;5;241m0\u001b[39m)\n\u001b[0;32m     15\u001b[0m color \u001b[38;5;241m=\u001b[39m \u001b[38;5;124m'\u001b[39m\u001b[38;5;124mred\u001b[39m\u001b[38;5;124m'\u001b[39m \u001b[38;5;28;01mif\u001b[39;00m np\u001b[38;5;241m.\u001b[39mrandom\u001b[38;5;241m.\u001b[39mbinomial(\u001b[38;5;241m1\u001b[39m) \u001b[38;5;28;01melse\u001b[39;00m \u001b[38;5;124m'\u001b[39m\u001b[38;5;124mblack\u001b[39m\u001b[38;5;124m'\u001b[39m\n",
      "Input \u001b[1;32mIn [40]\u001b[0m, in \u001b[0;36mcompute_event_probability\u001b[1;34m(red_card_count, black_card_count)\u001b[0m\n\u001b[0;32m     10\u001b[0m \u001b[38;5;28;01mdef\u001b[39;00m \u001b[38;5;21mcompute_event_probability\u001b[39m(red_card_count, black_card_count):\n\u001b[1;32m---> 11\u001b[0m     \u001b[38;5;28;01mreturn\u001b[39;00m red_card_count \u001b[38;5;241m/\u001b[39m ( \u001b[43mred_card_count\u001b[49m\u001b[43m \u001b[49m\u001b[38;5;241;43m+\u001b[39;49m\u001b[43m \u001b[49m\u001b[43mblack_card_count\u001b[49m)\n",
      "\u001b[1;31mTypeError\u001b[0m: unsupported operand type(s) for +: 'function' and 'dict'"
     ]
    }
   ],
   "source": [
    "np.random.seed(0)\n",
    "total_cards = 52\n",
    "red_card_count = np.random.randint(0, total_cards + 1)\n",
    "\n",
    "# let's compute the black card count\n",
    "black_card_count = total_cards - red_card_count\n",
    "assert black_card_count != red_card_count\n",
    "\n",
    "# computing card probabilities using a sample space\n",
    "def compute_event_probability(red_card_count, black_card_count):\n",
    "    return red_card_count / ( red_card_count + black_card_count)\n",
    "weighted_sample_space = {'red_card': red_card_count, 'black_card' : black_card_count }\n",
    "\n",
    "prob_red = compute_event_probability(lambda x:x == 'red_card', weighted_sample_space)\n",
    "\n",
    "np.random.seed(0)\n",
    "color = 'red' if np.random.binomial(1) else 'black'\n",
    "print (f\"The first card in the shuffled deck is {color}\")\n"
   ]
  },
  {
   "cell_type": "code",
   "execution_count": 36,
   "id": "456aa5cf",
   "metadata": {},
   "outputs": [
    {
     "ename": "NameError",
     "evalue": "name 'red_card_count' is not defined",
     "output_type": "error",
     "traceback": [
      "\u001b[1;31m---------------------------------------------------------------------------\u001b[0m",
      "\u001b[1;31mNameError\u001b[0m                                 Traceback (most recent call last)",
      "Input \u001b[1;32mIn [36]\u001b[0m, in \u001b[0;36m<cell line: 4>\u001b[1;34m()\u001b[0m\n\u001b[0;32m      2\u001b[0m \u001b[38;5;28;01mdef\u001b[39;00m \u001b[38;5;21mcompute_event_probability\u001b[39m(red_card_count, black_card_count):\n\u001b[0;32m      3\u001b[0m     \u001b[38;5;28;01mreturn\u001b[39;00m red_card_count \u001b[38;5;241m/\u001b[39m ( red_card_count \u001b[38;5;241m+\u001b[39m black_card_count)\n\u001b[1;32m----> 4\u001b[0m weighted_sample_space \u001b[38;5;241m=\u001b[39m {\u001b[38;5;124m'\u001b[39m\u001b[38;5;124mred_card\u001b[39m\u001b[38;5;124m'\u001b[39m: \u001b[43mred_card_count\u001b[49m, \u001b[38;5;124m'\u001b[39m\u001b[38;5;124mblack_card\u001b[39m\u001b[38;5;124m'\u001b[39m : black_card_count }\n\u001b[0;32m      5\u001b[0m prob_red \u001b[38;5;241m=\u001b[39m compute_event_probability(\u001b[38;5;28;01mlambda\u001b[39;00m x:x \u001b[38;5;241m==\u001b[39m \u001b[38;5;124m'\u001b[39m\u001b[38;5;124mred_card\u001b[39m\u001b[38;5;124m'\u001b[39m, weighted_sample_space)\n\u001b[0;32m      7\u001b[0m \u001b[38;5;28;01massert\u001b[39;00m prob_red \u001b[38;5;241m==\u001b[39m red_card_count \u001b[38;5;241m/\u001b[39m total_cards\n",
      "\u001b[1;31mNameError\u001b[0m: name 'red_card_count' is not defined"
     ]
    }
   ],
   "source": [
    "\n"
   ]
  },
  {
   "cell_type": "markdown",
   "id": "f9002ee1",
   "metadata": {},
   "source": [
    "### Simulating a random cars"
   ]
  },
  {
   "cell_type": "code",
   "execution_count": 39,
   "id": "8f41dc5b",
   "metadata": {},
   "outputs": [
    {
     "ename": "NameError",
     "evalue": "name 'prob_red' is not defined",
     "output_type": "error",
     "traceback": [
      "\u001b[1;31m---------------------------------------------------------------------------\u001b[0m",
      "\u001b[1;31mNameError\u001b[0m                                 Traceback (most recent call last)",
      "Input \u001b[1;32mIn [39]\u001b[0m, in \u001b[0;36m<cell line: 2>\u001b[1;34m()\u001b[0m\n\u001b[0;32m      1\u001b[0m np\u001b[38;5;241m.\u001b[39mrandom\u001b[38;5;241m.\u001b[39mseed(\u001b[38;5;241m0\u001b[39m)\n\u001b[1;32m----> 2\u001b[0m color \u001b[38;5;241m=\u001b[39m \u001b[38;5;124m'\u001b[39m\u001b[38;5;124mred\u001b[39m\u001b[38;5;124m'\u001b[39m \u001b[38;5;28;01mif\u001b[39;00m np\u001b[38;5;241m.\u001b[39mrandom\u001b[38;5;241m.\u001b[39mbinomial(\u001b[38;5;241m1\u001b[39m, \u001b[43mprob_red\u001b[49m) \u001b[38;5;28;01melse\u001b[39;00m \u001b[38;5;124m'\u001b[39m\u001b[38;5;124mblack\u001b[39m\u001b[38;5;124m'\u001b[39m\n\u001b[0;32m      3\u001b[0m \u001b[38;5;28mprint\u001b[39m (\u001b[38;5;124mf\u001b[39m\u001b[38;5;124m\"\u001b[39m\u001b[38;5;124mThe first card in the shuffled deck is \u001b[39m\u001b[38;5;132;01m{\u001b[39;00mcolor\u001b[38;5;132;01m}\u001b[39;00m\u001b[38;5;124m\"\u001b[39m)\n",
      "\u001b[1;31mNameError\u001b[0m: name 'prob_red' is not defined"
     ]
    }
   ],
   "source": []
  },
  {
   "cell_type": "code",
   "execution_count": null,
   "id": "ba584b06",
   "metadata": {},
   "outputs": [],
   "source": []
  },
  {
   "cell_type": "code",
   "execution_count": null,
   "id": "2a534ec6",
   "metadata": {},
   "outputs": [],
   "source": []
  },
  {
   "cell_type": "code",
   "execution_count": null,
   "id": "9edfa2f4",
   "metadata": {},
   "outputs": [],
   "source": []
  },
  {
   "cell_type": "code",
   "execution_count": null,
   "id": "12e89a49",
   "metadata": {},
   "outputs": [],
   "source": []
  },
  {
   "cell_type": "code",
   "execution_count": null,
   "id": "2ec6d40f",
   "metadata": {},
   "outputs": [],
   "source": []
  },
  {
   "cell_type": "code",
   "execution_count": null,
   "id": "a5a86b26",
   "metadata": {},
   "outputs": [],
   "source": []
  },
  {
   "cell_type": "code",
   "execution_count": null,
   "id": "5e83d5ec",
   "metadata": {},
   "outputs": [],
   "source": []
  },
  {
   "cell_type": "code",
   "execution_count": null,
   "id": "b59a8749",
   "metadata": {},
   "outputs": [],
   "source": []
  },
  {
   "cell_type": "code",
   "execution_count": null,
   "id": "009f8e2f",
   "metadata": {},
   "outputs": [],
   "source": []
  },
  {
   "cell_type": "code",
   "execution_count": null,
   "id": "0ad465dc",
   "metadata": {},
   "outputs": [],
   "source": []
  },
  {
   "cell_type": "code",
   "execution_count": null,
   "id": "b91c7927",
   "metadata": {},
   "outputs": [],
   "source": []
  },
  {
   "cell_type": "code",
   "execution_count": null,
   "id": "b71b3651",
   "metadata": {},
   "outputs": [],
   "source": []
  },
  {
   "cell_type": "code",
   "execution_count": null,
   "id": "06ad75d4",
   "metadata": {},
   "outputs": [],
   "source": []
  },
  {
   "cell_type": "code",
   "execution_count": null,
   "id": "4ea65268",
   "metadata": {},
   "outputs": [],
   "source": []
  },
  {
   "cell_type": "code",
   "execution_count": null,
   "id": "a2a7d1a1",
   "metadata": {},
   "outputs": [],
   "source": []
  },
  {
   "cell_type": "code",
   "execution_count": null,
   "id": "2b1c3a65",
   "metadata": {},
   "outputs": [],
   "source": []
  },
  {
   "cell_type": "code",
   "execution_count": null,
   "id": "5b509d92",
   "metadata": {},
   "outputs": [],
   "source": []
  },
  {
   "cell_type": "code",
   "execution_count": null,
   "id": "234dd9dd",
   "metadata": {},
   "outputs": [],
   "source": []
  },
  {
   "cell_type": "code",
   "execution_count": null,
   "id": "b15e3ebc",
   "metadata": {},
   "outputs": [],
   "source": []
  },
  {
   "cell_type": "code",
   "execution_count": null,
   "id": "60c7905d",
   "metadata": {},
   "outputs": [],
   "source": []
  },
  {
   "cell_type": "code",
   "execution_count": null,
   "id": "d16661e1",
   "metadata": {},
   "outputs": [],
   "source": []
  },
  {
   "cell_type": "code",
   "execution_count": null,
   "id": "a9e544cd",
   "metadata": {},
   "outputs": [],
   "source": []
  },
  {
   "cell_type": "code",
   "execution_count": null,
   "id": "802c8e4b",
   "metadata": {},
   "outputs": [],
   "source": []
  },
  {
   "cell_type": "code",
   "execution_count": null,
   "id": "947c8943",
   "metadata": {},
   "outputs": [],
   "source": []
  },
  {
   "cell_type": "code",
   "execution_count": null,
   "id": "62023b48",
   "metadata": {},
   "outputs": [],
   "source": []
  },
  {
   "cell_type": "code",
   "execution_count": null,
   "id": "92b6447c",
   "metadata": {},
   "outputs": [],
   "source": []
  },
  {
   "cell_type": "code",
   "execution_count": null,
   "id": "c4956f7c",
   "metadata": {},
   "outputs": [],
   "source": []
  },
  {
   "cell_type": "code",
   "execution_count": null,
   "id": "d510c3be",
   "metadata": {},
   "outputs": [],
   "source": []
  },
  {
   "cell_type": "code",
   "execution_count": null,
   "id": "1f0b384a",
   "metadata": {},
   "outputs": [],
   "source": []
  },
  {
   "cell_type": "code",
   "execution_count": null,
   "id": "6e027d9f",
   "metadata": {},
   "outputs": [],
   "source": []
  },
  {
   "cell_type": "code",
   "execution_count": null,
   "id": "9f74b465",
   "metadata": {},
   "outputs": [],
   "source": []
  },
  {
   "cell_type": "code",
   "execution_count": null,
   "id": "16c38910",
   "metadata": {},
   "outputs": [],
   "source": []
  },
  {
   "cell_type": "code",
   "execution_count": null,
   "id": "2f8d4b56",
   "metadata": {},
   "outputs": [],
   "source": []
  },
  {
   "cell_type": "code",
   "execution_count": null,
   "id": "dfff3c76",
   "metadata": {},
   "outputs": [],
   "source": []
  },
  {
   "cell_type": "code",
   "execution_count": null,
   "id": "c534809a",
   "metadata": {},
   "outputs": [],
   "source": []
  },
  {
   "cell_type": "code",
   "execution_count": null,
   "id": "36a276ca",
   "metadata": {},
   "outputs": [],
   "source": []
  },
  {
   "cell_type": "code",
   "execution_count": null,
   "id": "e0584328",
   "metadata": {},
   "outputs": [],
   "source": []
  },
  {
   "cell_type": "code",
   "execution_count": null,
   "id": "3f1d1185",
   "metadata": {},
   "outputs": [],
   "source": []
  },
  {
   "cell_type": "code",
   "execution_count": null,
   "id": "2ded51f5",
   "metadata": {},
   "outputs": [],
   "source": []
  },
  {
   "cell_type": "code",
   "execution_count": null,
   "id": "102764f5",
   "metadata": {},
   "outputs": [],
   "source": []
  },
  {
   "cell_type": "code",
   "execution_count": null,
   "id": "00f0b624",
   "metadata": {},
   "outputs": [],
   "source": []
  },
  {
   "cell_type": "code",
   "execution_count": null,
   "id": "35a09241",
   "metadata": {},
   "outputs": [],
   "source": []
  }
 ],
 "metadata": {
  "kernelspec": {
   "display_name": "Python 3 (ipykernel)",
   "language": "python",
   "name": "python3"
  },
  "language_info": {
   "codemirror_mode": {
    "name": "ipython",
    "version": 3
   },
   "file_extension": ".py",
   "mimetype": "text/x-python",
   "name": "python",
   "nbconvert_exporter": "python",
   "pygments_lexer": "ipython3",
   "version": "3.10.4"
  }
 },
 "nbformat": 4,
 "nbformat_minor": 5
}

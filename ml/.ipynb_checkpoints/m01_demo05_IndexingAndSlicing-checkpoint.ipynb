{
 "cells": [
  {
   "cell_type": "code",
   "execution_count": 4,
   "id": "d2c3031d",
   "metadata": {},
   "outputs": [],
   "source": [
    "import numpy as np"
   ]
  },
  {
   "cell_type": "code",
   "execution_count": 12,
   "id": "7979fca3",
   "metadata": {},
   "outputs": [],
   "source": [
    "students = np.array([['Alice', 'Beth', 'Cathy', 'Dorothy'],\n",
    "                     [65,78,90,81],\n",
    "                     [71,82,79,92]])"
   ]
  },
  {
   "cell_type": "code",
   "execution_count": 6,
   "id": "2e9b4522",
   "metadata": {},
   "outputs": [
    {
     "data": {
      "text/plain": [
       "array([['Alice', 'Beth', 'Cathy', 'Dorothy'],\n",
       "       ['65', '78', '90', '81'],\n",
       "       ['71', '82', '79', '92']], dtype='<U7')"
      ]
     },
     "execution_count": 6,
     "metadata": {},
     "output_type": "execute_result"
    }
   ],
   "source": [
    "students"
   ]
  },
  {
   "cell_type": "code",
   "execution_count": 7,
   "id": "a1cb0292",
   "metadata": {},
   "outputs": [
    {
     "data": {
      "text/plain": [
       "'Beth'"
      ]
     },
     "execution_count": 7,
     "metadata": {},
     "output_type": "execute_result"
    }
   ],
   "source": [
    "students[0,1]"
   ]
  },
  {
   "cell_type": "code",
   "execution_count": 8,
   "id": "a59b6086",
   "metadata": {},
   "outputs": [
    {
     "data": {
      "text/plain": [
       "array([['Cathy', 'Dorothy'],\n",
       "       ['90', '81']], dtype='<U7')"
      ]
     },
     "execution_count": 8,
     "metadata": {},
     "output_type": "execute_result"
    }
   ],
   "source": [
    "students[0:2,2:4]"
   ]
  },
  {
   "cell_type": "code",
   "execution_count": 9,
   "id": "8638956e",
   "metadata": {},
   "outputs": [
    {
     "data": {
      "text/plain": [
       "array([['Beth'],\n",
       "       ['78'],\n",
       "       ['82']], dtype='<U7')"
      ]
     },
     "execution_count": 9,
     "metadata": {},
     "output_type": "execute_result"
    }
   ],
   "source": [
    "students[:,1:2]"
   ]
  },
  {
   "cell_type": "code",
   "execution_count": 10,
   "id": "7ce69800",
   "metadata": {},
   "outputs": [],
   "source": [
    "import numpy as np\n",
    "a = np.arange(11)**2\n"
   ]
  },
  {
   "cell_type": "code",
   "execution_count": 11,
   "id": "7498d2d9",
   "metadata": {},
   "outputs": [
    {
     "data": {
      "text/plain": [
       "array([  0,   1,   4,   9,  16,  25,  36,  49,  64,  81, 100], dtype=int32)"
      ]
     },
     "execution_count": 11,
     "metadata": {},
     "output_type": "execute_result"
    }
   ],
   "source": [
    "a"
   ]
  },
  {
   "cell_type": "code",
   "execution_count": 13,
   "id": "977b625b",
   "metadata": {},
   "outputs": [
    {
     "data": {
      "text/plain": [
       "array([['Cathy', 'Dorothy'],\n",
       "       ['90', '81']], dtype='<U7')"
      ]
     },
     "execution_count": 13,
     "metadata": {},
     "output_type": "execute_result"
    }
   ],
   "source": [
    "students[0:2,2:4]"
   ]
  },
  {
   "cell_type": "code",
   "execution_count": 14,
   "id": "54245c46",
   "metadata": {},
   "outputs": [
    {
     "data": {
      "text/plain": [
       "array([['Alice', 'Beth', 'Cathy', 'Dorothy'],\n",
       "       ['65', '78', '90', '81'],\n",
       "       ['71', '82', '79', '92']], dtype='<U7')"
      ]
     },
     "execution_count": 14,
     "metadata": {},
     "output_type": "execute_result"
    }
   ],
   "source": [
    "students"
   ]
  },
  {
   "cell_type": "code",
   "execution_count": 15,
   "id": "8835875a",
   "metadata": {},
   "outputs": [
    {
     "data": {
      "text/plain": [
       "array([['Dorothy'],\n",
       "       ['81']], dtype='<U7')"
      ]
     },
     "execution_count": 15,
     "metadata": {},
     "output_type": "execute_result"
    }
   ],
   "source": [
    "students[0:2,3:4]"
   ]
  },
  {
   "cell_type": "code",
   "execution_count": 16,
   "id": "53df89e2",
   "metadata": {},
   "outputs": [
    {
     "ename": "SyntaxError",
     "evalue": "invalid syntax (<ipython-input-16-862934e59d9a>, line 1)",
     "output_type": "error",
     "traceback": [
      "\u001b[1;36m  File \u001b[1;32m\"<ipython-input-16-862934e59d9a>\"\u001b[1;36m, line \u001b[1;32m1\u001b[0m\n\u001b[1;33m    students[,3:4]\u001b[0m\n\u001b[1;37m             ^\u001b[0m\n\u001b[1;31mSyntaxError\u001b[0m\u001b[1;31m:\u001b[0m invalid syntax\n"
     ]
    }
   ],
   "source": [
    "students[,3:4]"
   ]
  },
  {
   "cell_type": "code",
   "execution_count": 17,
   "id": "1a3d3251",
   "metadata": {},
   "outputs": [
    {
     "data": {
      "text/plain": [
       "array([['Cathy', 'Dorothy'],\n",
       "       ['90', '81']], dtype='<U7')"
      ]
     },
     "execution_count": 17,
     "metadata": {},
     "output_type": "execute_result"
    }
   ],
   "source": [
    "students[0:2,2:4]"
   ]
  },
  {
   "cell_type": "code",
   "execution_count": 18,
   "id": "9283589f",
   "metadata": {},
   "outputs": [
    {
     "data": {
      "text/plain": [
       "array([['Dorothy'],\n",
       "       ['81'],\n",
       "       ['92']], dtype='<U7')"
      ]
     },
     "execution_count": 18,
     "metadata": {},
     "output_type": "execute_result"
    }
   ],
   "source": [
    "students[0:,3:4]"
   ]
  },
  {
   "cell_type": "code",
   "execution_count": 20,
   "id": "cc9d0408",
   "metadata": {},
   "outputs": [],
   "source": [
    "# [rows,columns]"
   ]
  },
  {
   "cell_type": "code",
   "execution_count": null,
   "id": "7df2fb31",
   "metadata": {},
   "outputs": [],
   "source": []
  }
 ],
 "metadata": {
  "kernelspec": {
   "display_name": "Python 3",
   "language": "python",
   "name": "python3"
  },
  "language_info": {
   "codemirror_mode": {
    "name": "ipython",
    "version": 3
   },
   "file_extension": ".py",
   "mimetype": "text/x-python",
   "name": "python",
   "nbconvert_exporter": "python",
   "pygments_lexer": "ipython3",
   "version": "3.9.2"
  }
 },
 "nbformat": 4,
 "nbformat_minor": 5
}

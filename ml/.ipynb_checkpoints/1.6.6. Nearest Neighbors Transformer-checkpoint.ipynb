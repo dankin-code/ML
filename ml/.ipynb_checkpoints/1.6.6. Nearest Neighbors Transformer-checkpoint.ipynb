{
 "cells": [
  {
   "cell_type": "code",
   "execution_count": 1,
   "id": "c1604d72",
   "metadata": {},
   "outputs": [],
   "source": [
    "import tempfile\n",
    "from sklearn.manifold import Isomap\n",
    "from sklearn.neighbors import KNeighborsTransformer\n",
    "from sklearn.pipeline import make_pipeline\n",
    "from sklearn.datasets import make_regression"
   ]
  },
  {
   "cell_type": "code",
   "execution_count": 2,
   "id": "0caa1cec",
   "metadata": {},
   "outputs": [],
   "source": [
    "cache_path = tempfile.gettempdir() # we use a temporary folder"
   ]
  },
  {
   "cell_type": "code",
   "execution_count": 3,
   "id": "e4a16a0b",
   "metadata": {},
   "outputs": [],
   "source": [
    "X, _ = make_regression(n_samples=50, n_features=25, random_state=0)"
   ]
  },
  {
   "cell_type": "code",
   "execution_count": 4,
   "id": "ba1e2079",
   "metadata": {},
   "outputs": [],
   "source": [
    "estimator = make_pipeline(KNeighborsTransformer(mode='distance'),Isomap(n_components=3, metric='precomputed'),memory=cache_path)"
   ]
  },
  {
   "cell_type": "code",
   "execution_count": 5,
   "id": "27f3fbf6",
   "metadata": {},
   "outputs": [],
   "source": [
    "X_embedded = estimator.fit_transform(X)"
   ]
  },
  {
   "cell_type": "code",
   "execution_count": 6,
   "id": "ea6c9b14",
   "metadata": {},
   "outputs": [
    {
     "data": {
      "text/plain": [
       "(50, 3)"
      ]
     },
     "execution_count": 6,
     "metadata": {},
     "output_type": "execute_result"
    }
   ],
   "source": [
    "X_embedded.shape"
   ]
  },
  {
   "cell_type": "code",
   "execution_count": 7,
   "id": "ef3d7f20",
   "metadata": {},
   "outputs": [
    {
     "name": "stdout",
     "output_type": "stream",
     "text": [
      "[[ 1.33758761 -1.14157711 -3.48690267]\n",
      " [ 3.78690651 -1.88294372  0.00979563]\n",
      " [-2.25592652 -0.6190851  -3.55363332]\n",
      " [ 8.84987229 -4.15348503  3.47421883]\n",
      " [-0.78887403 -0.85440505 -5.46531933]\n",
      " [ 2.8852628   6.66556778 -2.87346307]\n",
      " [ 7.17405887 -1.4817403   5.64913206]\n",
      " [-0.02897981 -7.08879843 -0.19316037]\n",
      " [-7.39872343  2.06507889  0.62459704]\n",
      " [-0.25157793  2.82549609 -3.17609082]\n",
      " [-1.24153425 -2.21961821 -2.84088563]\n",
      " [-0.59358936 -1.03851569 -4.55644613]\n",
      " [-5.37128548  0.46117553  5.7962262 ]\n",
      " [ 0.18066257 -2.18662802 -1.4589615 ]\n",
      " [ 0.48547284 -1.18580813 -4.64637826]\n",
      " [-4.36041066 -0.14859651  4.19228515]\n",
      " [-1.6557457  -2.13260426 -2.23602612]\n",
      " [-4.03110456 -0.99851148  0.47980102]\n",
      " [-4.01589441 -0.37042055  3.19654445]\n",
      " [-1.25114262 -1.22160037 -0.74733416]\n",
      " [-6.6029744   4.03814822  3.57895476]\n",
      " [-2.83106788  7.28422678 -2.46731402]\n",
      " [-0.55643903 -2.97741387  0.3007679 ]\n",
      " [ 4.17750886  4.92865592 -3.70566375]\n",
      " [-0.41127012 -0.86178535  6.2320816 ]\n",
      " [-4.68394846 -4.23605703  6.06234307]\n",
      " [ 3.10195713  0.89661496 -0.6323311 ]\n",
      " [-0.12821995 -1.84302498 -0.75814671]\n",
      " [ 3.71169434  6.3248903  -2.1889221 ]\n",
      " [-5.89581013 -0.71867892 -0.06333122]\n",
      " [ 6.51267844 -0.67005338 -2.65417346]\n",
      " [-2.60158768  1.62866359 -2.2896944 ]\n",
      " [-1.03853193 -6.77890123 -0.4982268 ]\n",
      " [ 6.12942526  4.52985843  3.80794542]\n",
      " [ 4.39107112  5.21406941  1.22673324]\n",
      " [-0.79120503  1.77403846  0.70254212]\n",
      " [-1.68922678 -0.10947578  3.28221138]\n",
      " [ 5.82090953  0.9354421  -1.6693786 ]\n",
      " [-4.04877006 -2.30205586 -3.26338184]\n",
      " [ 3.03554602 -2.23641663  3.10763397]\n",
      " [-4.1862164   5.88470694  4.1929696 ]\n",
      " [-1.4376006   2.26602772 -3.05964504]\n",
      " [ 0.89909438 -3.17875688 -2.52164195]\n",
      " [-5.25599052  5.50029271 -0.3529313 ]\n",
      " [-3.14462087 -4.67756918 -1.8078623 ]\n",
      " [ 6.45409132 -0.33360276  0.16229859]\n",
      " [ 2.69660152 -6.34191025 -1.03892806]\n",
      " [ 1.38075391  3.43967838 -1.3541232 ]\n",
      " [ 5.8428705   2.74661918  8.37513536]\n",
      " [-0.30575719 -3.41921136  1.10607982]]\n"
     ]
    }
   ],
   "source": [
    "print(X_embedded)"
   ]
  },
  {
   "cell_type": "code",
   "execution_count": null,
   "id": "eb9204dc",
   "metadata": {},
   "outputs": [],
   "source": []
  }
 ],
 "metadata": {
  "kernelspec": {
   "display_name": "Python 3",
   "language": "python",
   "name": "python3"
  },
  "language_info": {
   "codemirror_mode": {
    "name": "ipython",
    "version": 3
   },
   "file_extension": ".py",
   "mimetype": "text/x-python",
   "name": "python",
   "nbconvert_exporter": "python",
   "pygments_lexer": "ipython3",
   "version": "3.9.2"
  }
 },
 "nbformat": 4,
 "nbformat_minor": 5
}
